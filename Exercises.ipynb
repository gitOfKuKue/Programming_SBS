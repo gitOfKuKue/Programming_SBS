{
  "nbformat": 4,
  "nbformat_minor": 0,
  "metadata": {
    "colab": {
      "provenance": [],
      "include_colab_link": true
    },
    "kernelspec": {
      "name": "python3",
      "display_name": "Python 3"
    },
    "language_info": {
      "name": "python"
    }
  },
  "cells": [
    {
      "cell_type": "markdown",
      "metadata": {
        "id": "view-in-github",
        "colab_type": "text"
      },
      "source": [
        "<a href=\"https://colab.research.google.com/github/gitOfKuKue/Programming_SBS/blob/main/Exercises.ipynb\" target=\"_parent\"><img src=\"https://colab.research.google.com/assets/colab-badge.svg\" alt=\"Open In Colab\"/></a>"
      ]
    },
    {
      "cell_type": "code",
      "execution_count": null,
      "metadata": {
        "id": "bN1c8-DwL6y8"
      },
      "outputs": [],
      "source": [
        "from datetime import date"
      ]
    },
    {
      "cell_type": "code",
      "source": [
        "# prompt: a = float(input(\"A = \" ))\n",
        "# b = float(input(\"B = \"))\n",
        "# c = float(input(\"C = \"))\n",
        "# delta = b*b-4*a*c\n",
        "# if delta == 0:\n",
        "#     print(\"dual solutions: x = \", str(-b/2/a))\n",
        "# if delta < 0:\n",
        "#     print(\"no solution\")\n",
        "# if delta > 0:\n",
        "#     print(\"x1 = \" + str((-b+delta**0.5)/2/a))\n",
        "#     print(\"x2 = \" + str((-b-delta**0.5)/2/a))\n",
        "\n",
        "a = float(input(\"A = \"))\n",
        "b = float(input(\"B = \"))\n",
        "c = float(input(\"C = \"))\n",
        "delta = b*b-4*a*c\n",
        "if delta == 0:\n",
        "    print(\"dual solutions: x = \", str(-b/2/a))\n",
        "elif delta < 0:\n",
        "    print(\"no solution\")\n",
        "else:\n",
        "    print(\"x1 = \" + str((-b+delta**0.5)/2/a))\n",
        "    print(\"x2 = \" + str((-b-delta**0.5)/2/a))"
      ],
      "metadata": {
        "colab": {
          "base_uri": "https://localhost:8080/"
        },
        "id": "HRGWhnvpYNB6",
        "outputId": "0e6d3265-cbbc-42ca-cce6-4e35b3876450"
      },
      "execution_count": null,
      "outputs": [
        {
          "output_type": "stream",
          "name": "stdout",
          "text": [
            "A = 10\n",
            "B = 0\n",
            "C = -10\n",
            "x1 = 1.0\n",
            "x2 = -1.0\n"
          ]
        }
      ]
    },
    {
      "cell_type": "code",
      "source": [
        "print(str(100))\n",
        "x = str(50)\n",
        "print(x)\n",
        "print(type(x))"
      ],
      "metadata": {
        "colab": {
          "base_uri": "https://localhost:8080/"
        },
        "id": "4QVMBHTXZAsi",
        "outputId": "a6405ed0-f86d-4936-edb2-4fac758e2c4b"
      },
      "execution_count": null,
      "outputs": [
        {
          "output_type": "stream",
          "name": "stdout",
          "text": [
            "100\n",
            "50\n",
            "<class 'str'>\n"
          ]
        }
      ]
    },
    {
      "cell_type": "code",
      "source": [
        "sum = 1 + 3 + 5 +\\\n",
        "7 + 9 + 11 +\\\n",
        "13 + 15 + 17\n",
        "print(sum)"
      ],
      "metadata": {
        "colab": {
          "base_uri": "https://localhost:8080/"
        },
        "id": "2SPYr3JBZWbh",
        "outputId": "324a26bc-4d40-454b-977c-d352f25d6b06"
      },
      "execution_count": null,
      "outputs": [
        {
          "output_type": "stream",
          "name": "stdout",
          "text": [
            "81\n"
          ]
        }
      ]
    },
    {
      "cell_type": "code",
      "source": [
        "myName = input(\"Enter your name : \") #input name\n",
        "myDOB = int(input(\"Enter your year of birth : \")) #input DOB\n",
        "\n",
        "today = date.today() #current date\n",
        "print(\"Hello \", myName, \", in this year, you are \", (today.year - myDOB) , \" years old.\")"
      ],
      "metadata": {
        "colab": {
          "base_uri": "https://localhost:8080/"
        },
        "id": "nrMT7zNCfNVs",
        "outputId": "e13c1f49-865b-467d-c79d-5e25a865c3c1"
      },
      "execution_count": null,
      "outputs": [
        {
          "output_type": "stream",
          "name": "stdout",
          "text": [
            "Enter your name : Ku Kue\n",
            "Enter your year of birth : 2003\n",
            "Hello  Ku Kue , in this year, you are  22  years old.\n"
          ]
        }
      ]
    },
    {
      "cell_type": "code",
      "source": [
        "myName = input(\"Enter your name : \") #input name\n",
        "year, month, day = map(int, input(\"Enter your date of birth (yyyy-mm-dd) : \").split(\"-\")) #input DOB\n",
        "\n",
        "today = date.today() #current date\n",
        "print(\"Hello \", myName, \", in this year, you are \", (today.year - year) , \" years old.\")"
      ],
      "metadata": {
        "id": "cakGXXWajkxH"
      },
      "execution_count": null,
      "outputs": []
    },
    {
      "cell_type": "code",
      "source": [
        "num = int(input(\"Enter a 4 digit number : \"))\n",
        "reverse = 0\n",
        "while num > 0:\n",
        "  reminder = num % 10\n",
        "  reverse = reverse * 10 + reminder\n",
        "  num //= 10\n",
        "\n",
        "print(reverse)\n",
        "\n"
      ],
      "metadata": {
        "colab": {
          "base_uri": "https://localhost:8080/"
        },
        "id": "7BDZegdNobp9",
        "outputId": "d4bf571f-be4d-40d0-c29f-358aa2334de7"
      },
      "execution_count": null,
      "outputs": [
        {
          "output_type": "stream",
          "name": "stdout",
          "text": [
            "Enter a 4 digit number : 4251\n",
            "425\n",
            "42\n",
            "4\n",
            "0\n",
            "1524\n"
          ]
        }
      ]
    },
    {
      "cell_type": "code",
      "source": [
        "##Exercise 2\n",
        "\n",
        "number = int(input(\"Enter a number : \"))\n",
        "if number == 2:\n",
        "  print(\"Monday\")\n",
        "elif number == 3:\n",
        "  print(\"Tuesday\")\n",
        "elif number == 4:\n",
        "  print(\"Wednesday\")\n",
        "elif number == 5:\n",
        "  print(\"Thursday\")\n",
        "elif number == 6:\n",
        "  print(\"Friday\")\n",
        "elif number == 7:\n",
        "  print(\"Sunday\")\n",
        "elif number == 8:\n",
        "  print(\"Saturday\")\n",
        "else:\n",
        "  print(\"Invalid Input!\")"
      ],
      "metadata": {
        "colab": {
          "base_uri": "https://localhost:8080/"
        },
        "id": "TFpuqXI0Hxfi",
        "outputId": "1b58d9ce-a463-4621-f978-05e498e6df9f"
      },
      "execution_count": null,
      "outputs": [
        {
          "output_type": "stream",
          "name": "stdout",
          "text": [
            "Enter a number : 6\n",
            "Friday\n"
          ]
        }
      ]
    },
    {
      "cell_type": "markdown",
      "source": [
        "**Practice**"
      ],
      "metadata": {
        "id": "AsyUGSOKh6YW"
      }
    },
    {
      "cell_type": "code",
      "source": [
        "#Practice\n",
        "number = int(input(\"Enter a number : \"))\n",
        "print(number,\" is even.\") if number%2==0 else print(number, \" is odd.\")"
      ],
      "metadata": {
        "colab": {
          "base_uri": "https://localhost:8080/"
        },
        "id": "cnxN-6rrN9Fm",
        "outputId": "9a55fa02-3df2-436b-bdee-672eed6d9913"
      },
      "execution_count": null,
      "outputs": [
        {
          "output_type": "stream",
          "name": "stdout",
          "text": [
            "Enter a number : 2\n",
            "2  is even.\n"
          ]
        }
      ]
    },
    {
      "cell_type": "code",
      "source": [
        "number = int(input(\"Enter a number : \"))\n",
        "i=1\n",
        "for i in range(number):\n",
        "  if (number/(i+1))*(number/(i+1))==number:\n",
        "    print(number, \" is perfect number\")\n",
        "    break\n",
        "  elif (i+1)==number:\n",
        "    print(number, \" is not perfect number\")\n"
      ],
      "metadata": {
        "colab": {
          "base_uri": "https://localhost:8080/"
        },
        "id": "94OYHWXCOW8p",
        "outputId": "c4a432c6-1fae-4698-dee8-4c5c967faa75"
      },
      "execution_count": null,
      "outputs": [
        {
          "output_type": "stream",
          "name": "stdout",
          "text": [
            "Enter a number : 25\n",
            "25  is perfect number\n"
          ]
        }
      ]
    },
    {
      "cell_type": "code",
      "source": [
        "#Largest Number & Smallest Number\n",
        "num1 = int(input(\"Enter number1 : \"))\n",
        "num2 = int(input(\"Enter number2 : \"))\n",
        "num3 = int(input(\"Enter number3 : \"))\n",
        "largest = num1\n",
        "smallest = num1\n",
        "for i in range(3):\n",
        "  if largest < num2: largest = num2\n",
        "  elif largest < num3: largest = num3\n",
        "\n",
        "  if smallest > num2: smallest = num2\n",
        "  elif smallest > num3: smallest = num3\n",
        "\n",
        "print(\"Smallest number among \", num1, \", \", num2, \", \", num3, \" is \", smallest)\n",
        "print(\"Largest number among \", num1, \", \", num2, \", \", num3, \" is \", largest)"
      ],
      "metadata": {
        "colab": {
          "base_uri": "https://localhost:8080/"
        },
        "id": "o7F4qyM4OhlI",
        "outputId": "2edd4a20-e0ab-4227-c331-d23b98aa40cc"
      },
      "execution_count": null,
      "outputs": [
        {
          "output_type": "stream",
          "name": "stdout",
          "text": [
            "Enter number1 : 10\n",
            "Enter number2 : 30\n",
            "Enter number3 : 50\n",
            "Smallest number among  10 ,  30 ,  50  is  10\n",
            "Largest number among  10 ,  30 ,  50  is  50\n"
          ]
        }
      ]
    },
    {
      "cell_type": "code",
      "source": [
        "#Largest number\n",
        "a = 10\n",
        "b = 50\n",
        "c = 69\n",
        "\n",
        "if a > b:\n",
        "  if a > c:\n",
        "    print(f\"(a) is the largest number.\")\n",
        "  else:\n",
        "    print(f\"(c) is the largest number.\")\n",
        "else:\n",
        "  if b > c:\n",
        "    print(f\"(b) is the largest number.\")\n",
        "  else:\n",
        "    print(f\"(c) is the largest number.\")"
      ],
      "metadata": {
        "colab": {
          "base_uri": "https://localhost:8080/"
        },
        "id": "MwiJsI2DUExN",
        "outputId": "a228c624-ac5c-436c-9d7a-ea8f0f65f0a4"
      },
      "execution_count": null,
      "outputs": [
        {
          "output_type": "stream",
          "name": "stdout",
          "text": [
            "(c) is the largest number.\n"
          ]
        }
      ]
    },
    {
      "cell_type": "code",
      "source": [
        "#Calculator\n",
        "number1 = int(input(\"Enter first number : \"))\n",
        "number2 = int(input(\"Enter second number : \"))\n",
        "operator = input(\"Enter an operator (+, -, *, /, %) : \")\n",
        "if operator == '+':\n",
        "  print(number1 + number2)\n",
        "elif operator == '-':\n",
        "  print(number1 - number2)\n",
        "elif operator == '*':\n",
        "  print(number1 * number2)\n",
        "elif operator == '/':\n",
        "  if number2 == 0: print(\"Divisor cannot be Zero\")\n",
        "  else: print(number1 / number2)\n",
        "elif operator == '%':\n",
        "  print(number1 % number2)"
      ],
      "metadata": {
        "colab": {
          "base_uri": "https://localhost:8080/"
        },
        "id": "UmUaQ3HhVDeZ",
        "outputId": "7f51ccea-82c9-412b-d24c-79a2a4845bc9"
      },
      "execution_count": null,
      "outputs": [
        {
          "output_type": "stream",
          "name": "stdout",
          "text": [
            "Enter first number : 50\n",
            "Enter second number : 2\n",
            "Enter an operator (+, -, *, /, %) : %\n",
            "0\n"
          ]
        }
      ]
    },
    {
      "cell_type": "code",
      "source": [
        "A = int(input(\"Enter the number of A : \"))\n",
        "B = int(input(\"Enter the number of B : \"))\n",
        "\n",
        "print(\"The value of x : \", -B/A)"
      ],
      "metadata": {
        "colab": {
          "base_uri": "https://localhost:8080/"
        },
        "id": "KNa4wXn_WlAC",
        "outputId": "75da9144-5e0e-426c-821f-8054d90febcb"
      },
      "execution_count": null,
      "outputs": [
        {
          "output_type": "stream",
          "name": "stdout",
          "text": [
            "Enter the number of A : 10\n",
            "Enter the number of B : 2\n",
            "The value of x :  -0.2\n"
          ]
        }
      ]
    },
    {
      "cell_type": "markdown",
      "source": [
        "**Homework**"
      ],
      "metadata": {
        "id": "Tgw_BgvgXv1D"
      }
    },
    {
      "cell_type": "code",
      "source": [
        "#Leap Year\n",
        "year = int(input(\"Enter the year : \"))\n",
        "isLeapYear = False\n",
        "if year%4==0:\n",
        "  isLeapYear = True\n",
        "  if year%100==0:\n",
        "    isLeapYear = year%400==0\n",
        "\n",
        "\n",
        "if isLeapYear:\n",
        "  print(year, \" is the leap year.\")\n",
        "else:\n",
        "  print(year, \" is not the leap year.\")\n",
        "\n",
        "print(year%400==0)"
      ],
      "metadata": {
        "colab": {
          "base_uri": "https://localhost:8080/"
        },
        "id": "RZdO-YOxXx-8",
        "outputId": "c498066e-e5a4-4e11-8d36-751124311360"
      },
      "execution_count": null,
      "outputs": [
        {
          "output_type": "stream",
          "name": "stdout",
          "text": [
            "Enter the year : 1900\n",
            "True\n",
            "False\n",
            "False\n",
            "1900  is not the leap year.\n",
            "False\n"
          ]
        }
      ]
    },
    {
      "cell_type": "markdown",
      "source": [
        "**Looping (While, For)**"
      ],
      "metadata": {
        "id": "9H8b81FtiVp2"
      }
    },
    {
      "cell_type": "code",
      "source": [
        "limit = int(input(\"Enter a limit : \"))\n",
        "i=1\n",
        "sum = 0\n",
        "while i <= limit:\n",
        "  sum += i\n",
        "  i=i+1\n",
        "else:\n",
        "  print(\"The sum from 1 to \", limit, \" is \", sum)"
      ],
      "metadata": {
        "id": "-ky93OTxicXR",
        "outputId": "fd133157-4a59-47df-fdb7-f23f337e29a2",
        "colab": {
          "base_uri": "https://localhost:8080/"
        }
      },
      "execution_count": null,
      "outputs": [
        {
          "output_type": "stream",
          "name": "stdout",
          "text": [
            "Enter a limit : 5\n",
            "The sum from 1 to  5  is  15\n"
          ]
        }
      ]
    },
    {
      "cell_type": "code",
      "source": [
        "#For loop\n",
        "for x in \"banana\":\n",
        "  print(x)\n",
        "print(\"==========OR==========\")\n",
        "text = \"banana\"\n",
        "x = 0\n",
        "while x < len(text):\n",
        "  print(text[x])\n",
        "  x += 1"
      ],
      "metadata": {
        "id": "U-t6gbIalPfC",
        "outputId": "f8346d9b-3c26-41fa-a15a-fc5036829b15",
        "colab": {
          "base_uri": "https://localhost:8080/"
        }
      },
      "execution_count": null,
      "outputs": [
        {
          "output_type": "stream",
          "name": "stdout",
          "text": [
            "b\n",
            "a\n",
            "n\n",
            "a\n",
            "n\n",
            "a\n",
            "==========OR==========\n",
            "b\n",
            "a\n",
            "n\n",
            "a\n",
            "n\n",
            "a\n"
          ]
        }
      ]
    },
    {
      "cell_type": "code",
      "source": [
        "fruits = [\"apple\", \"banana\", \"cherry\"]\n",
        "for fruit in fruits:\n",
        "  print(fruit)\n",
        "\n",
        "print(\"==========OR==========\")\n",
        "\n",
        "i = 0\n",
        "while i < len(fruits):\n",
        "  print(fruits[i])\n",
        "  i += 1"
      ],
      "metadata": {
        "id": "uBun02hSn38g",
        "outputId": "3444d552-ef95-46fb-e6e1-475470acb426",
        "colab": {
          "base_uri": "https://localhost:8080/"
        }
      },
      "execution_count": null,
      "outputs": [
        {
          "output_type": "stream",
          "name": "stdout",
          "text": [
            "apple\n",
            "banana\n",
            "cherry\n",
            "==========OR==========\n",
            "apple\n",
            "banana\n",
            "cherry\n"
          ]
        }
      ]
    },
    {
      "cell_type": "code",
      "source": [
        "#Range\n",
        "\n",
        "for d in range(10,20):\n",
        "  print(d)\n",
        "\n",
        "print(\"=============\")\n",
        "\n",
        "for d in range(10,20,-1):\n",
        "  print(d)"
      ],
      "metadata": {
        "id": "RtpvuuZcp-uD"
      },
      "execution_count": null,
      "outputs": []
    },
    {
      "cell_type": "code",
      "source": [
        "#Enumerate Function\n",
        "Months = [\"Jan\", \"Feb\", \"Mar\", \"Apr\", \"May\", \"Jun\", \"Jul\", \"Aug\", \"Sep\", \"Oct\", \"Nov\", \"Dec\"]\n",
        "for i, m in enumerate(Months):\n",
        "  print(i, m)"
      ],
      "metadata": {
        "id": "uXKHTtmYrT4k",
        "outputId": "3c6feec6-b161-406f-a535-c0e33fdc0f1d",
        "colab": {
          "base_uri": "https://localhost:8080/"
        }
      },
      "execution_count": null,
      "outputs": [
        {
          "output_type": "stream",
          "name": "stdout",
          "text": [
            "0 Jan\n",
            "1 Feb\n",
            "2 Mar\n",
            "3 Apr\n",
            "4 May\n",
            "5 Jun\n",
            "6 Jul\n",
            "7 Aug\n",
            "8 Sep\n",
            "9 Oct\n",
            "10 Nov\n",
            "11 Dec\n"
          ]
        }
      ]
    },
    {
      "cell_type": "code",
      "source": [
        "def tich(a, b=5):\n",
        "  return a*b\n",
        "\n",
        "print(tich(0))\n",
        "print(tich(5, 10))"
      ],
      "metadata": {
        "id": "IjdTtnnFrv7r",
        "outputId": "8cd0cae2-9801-4b47-e06f-d896c9ff2732",
        "colab": {
          "base_uri": "https://localhost:8080/"
        }
      },
      "execution_count": null,
      "outputs": [
        {
          "output_type": "stream",
          "name": "stdout",
          "text": [
            "0\n",
            "50\n"
          ]
        }
      ]
    },
    {
      "cell_type": "markdown",
      "source": [
        "**Exercises**"
      ],
      "metadata": {
        "id": "x96tJXOaxToZ"
      }
    },
    {
      "cell_type": "code",
      "source": [
        "num = int(input(\"Enter a number : \"))\n",
        "divisor = 2\n",
        "\n",
        "if num == 2:\n",
        "  print(num, \" is Prime number\")\n",
        "else:\n",
        "  i = 2\n",
        "  while i <= num:\n",
        "    if divisor == num:\n",
        "        print(num, \" is Prime number\")\n",
        "        break\n",
        "    elif num%divisor==0:\n",
        "      print(num, \" is not Prime number\")\n",
        "      break\n",
        "    else:\n",
        "      divisor += 1\n",
        "  i+=1"
      ],
      "metadata": {
        "id": "h0i1-2quxV4W",
        "outputId": "7a1bf099-e2df-439f-afdd-61293811e16d",
        "colab": {
          "base_uri": "https://localhost:8080/"
        }
      },
      "execution_count": null,
      "outputs": [
        {
          "output_type": "stream",
          "name": "stdout",
          "text": [
            "Enter a number : 10\n",
            "10  is not Prime number\n"
          ]
        }
      ]
    },
    {
      "cell_type": "code",
      "source": [
        "startNum = int(input(\"Enter the start number : \"))\n",
        "endNum = int(input(\"Enter the end number : \"))\n",
        "\n",
        "for i in range(startNum, endNum):\n",
        "  if i%2==0:\n",
        "    print(i)"
      ],
      "metadata": {
        "id": "U5z7fcWI0iFj"
      },
      "execution_count": null,
      "outputs": []
    },
    {
      "cell_type": "code",
      "source": [
        "num = int(input(\"Enter a number : \"))\n",
        "\n",
        "sum = 0\n",
        "i = 1\n",
        "while i < num:\n",
        "    if num%i==0:\n",
        "        sum = sum + i\n",
        "    i += 1\n",
        "\n",
        "if num == sum:\n",
        "    print(num,\" is the perfect number.\")\n",
        "else:\n",
        "    print(num,\" is not the perfect number.\")"
      ],
      "metadata": {
        "id": "P7VPbmTk04-n"
      },
      "execution_count": null,
      "outputs": []
    },
    {
      "cell_type": "markdown",
      "source": [
        "**Homework (Conditional Statement)**"
      ],
      "metadata": {
        "id": "aziC56iVAByv"
      }
    },
    {
      "cell_type": "code",
      "source": [
        "# Homework 1\n",
        "\n",
        "month = input(\"Enter the month (1-12) : \")\n",
        "if month == \"4\" and month == 6 and month == \"9\" and month == \"11\":\n",
        "  print(\"The month has 30 days.\")\n",
        "elif month == \"2\":\n",
        "  print(\"The month has 28 days.\")\n",
        "else : print(\"The month has 31 days.\")"
      ],
      "metadata": {
        "id": "9BN04MGqAGxv",
        "outputId": "c20f747c-28fa-433a-8e60-08d432693a35",
        "colab": {
          "base_uri": "https://localhost:8080/"
        }
      },
      "execution_count": null,
      "outputs": [
        {
          "output_type": "stream",
          "name": "stdout",
          "text": [
            "Enter the month (1-12) : 2\n",
            "The month has 28 days.\n"
          ]
        }
      ]
    },
    {
      "cell_type": "code",
      "source": [
        "from pickle import FALSE\n",
        "# Homework 2\n",
        "\n",
        "month = input(\"Enter the month (1-12) : \")\n",
        "year = int(input(\"Enter the year : \"))\n",
        "isLeapYear = FALSE\n",
        "\n",
        "if year % 4 == 0:\n",
        "  isLeapYear = True\n",
        "  if year % 100 == 0:\n",
        "    isLeapYear = (year % 400 == 0)\n",
        "\n",
        "if month == \"4\" and month == \"6\" and month == \"9\" and month == \"11\":\n",
        "  print(\"The month has 30 days.\")\n",
        "elif month == \"2\":\n",
        "  if isLeapYear: print(\"The month has 29 days.\")\n",
        "  else: print(\"The month has 28 days.\")\n",
        "else : print(\"The month has 31 days.\")"
      ],
      "metadata": {
        "id": "bAR-CJ4VA-w6",
        "outputId": "24352551-585a-499d-ac1d-d05e95eca040",
        "colab": {
          "base_uri": "https://localhost:8080/"
        }
      },
      "execution_count": null,
      "outputs": [
        {
          "output_type": "stream",
          "name": "stdout",
          "text": [
            "Enter the month (1-12) : 2\n",
            "Enter the year : 2020\n",
            "The month has 29 days.\n"
          ]
        }
      ]
    },
    {
      "cell_type": "code",
      "source": [
        "numText = input(\"Enter a 4-digit number : \")[:4]\n",
        "\n",
        "num = [0, 0, 0, 0]\n",
        "i = 0\n",
        "for x in numText:\n",
        "  num[i] = int(x)\n",
        "  i += 1\n",
        "\n",
        "num[0] = num[0]*10 + num[3]\n",
        "num[1] = num[1]*10 + num[2]\n",
        "\n",
        "print(\"The sum of : ad + bc = ? \", num[0] + num[1])\n",
        "\n",
        "\n",
        "\n",
        "\n",
        "\n"
      ],
      "metadata": {
        "id": "R6_sXF5QCeNH",
        "outputId": "4948b370-5f22-4d95-995f-4664f08a698c",
        "colab": {
          "base_uri": "https://localhost:8080/"
        }
      },
      "execution_count": null,
      "outputs": [
        {
          "output_type": "stream",
          "name": "stdout",
          "text": [
            "Enter a 4-digit number : 1234\n",
            "1\n",
            "2\n",
            "3\n",
            "4\n",
            "The sum of : ad + bc = ?  37\n"
          ]
        }
      ]
    },
    {
      "cell_type": "code",
      "source": [
        "print(\"The Time is 24H System!!\")\n",
        "hour = int(input(\"Enter the hour : \"))\n",
        "minute = int(input(\"Enter the minute : \"))\n",
        "second = int(input(\"Enter the second : \"))\n",
        "\n",
        "if hour < 24:\n",
        "  if second >= 60:\n",
        "    minute += second//60\n",
        "    second %= 60\n",
        "    if minute >= 60:\n",
        "      hour += minute//60\n",
        "      minute %= 60\n",
        "      if hour >= 24:\n",
        "        hour %= 24\n",
        "  print(hour, \" : \", minute, \" : \", second+1)\n",
        "else: print(\"Time is unvalid\")"
      ],
      "metadata": {
        "id": "O8UjCeMaLypD",
        "outputId": "f002803b-1615-49d2-f7ac-f0abec2e5af5",
        "colab": {
          "base_uri": "https://localhost:8080/"
        }
      },
      "execution_count": null,
      "outputs": [
        {
          "output_type": "stream",
          "name": "stdout",
          "text": [
            "The Time is 24H System!!\n",
            "Enter the hour : 23\n",
            "Enter the minute : 59\n",
            "Enter the second : 80\n",
            "0  :  0  :  21\n"
          ]
        }
      ]
    },
    {
      "cell_type": "code",
      "source": [
        "hour = int(input(\"Enter the hour\"))"
      ],
      "metadata": {
        "id": "D8Jygom7M1TE"
      },
      "execution_count": null,
      "outputs": []
    },
    {
      "cell_type": "markdown",
      "source": [
        "**Exercises of PowerPoint 7**"
      ],
      "metadata": {
        "id": "gcd0kwsPbMdG"
      }
    },
    {
      "cell_type": "code",
      "source": [
        "a = 'hello world'\n",
        "print(a)\n",
        "print(\"tin hoc\")\n",
        "print('doesn\\'t') # use \\' to write single quotes...\n",
        "print(\"\\\"Yes,\\\" he said.\") \t\t# use \\\" to write double quotes...\n",
        "print(\"\\n\")\n",
        "s = 'First line.\\nSecond line.' # use  \\n to write newline\n",
        "print(s)\n",
        "ss = 'First line.\\\\nSecond line.' # use \\\\n to remove newline characters\n",
        "print(ss)\n",
        "print(\"\\n\")\n",
        "print('C:\\some\\name') # use \\n to write newline\n",
        "print(r'C:\\some\\name') # use r remove special characters"
      ],
      "metadata": {
        "colab": {
          "base_uri": "https://localhost:8080/"
        },
        "id": "hfSNeqiQbRmz",
        "outputId": "9a80d86c-a4e6-40d6-80b8-b13eef72bc58"
      },
      "execution_count": null,
      "outputs": [
        {
          "output_type": "stream",
          "name": "stdout",
          "text": [
            "hello world\n",
            "tin hoc\n",
            "doesn't\n",
            "\"Yes,\" he said.\n",
            "\n",
            "\n",
            "First line.\n",
            "Second line.\n",
            "First line.\\nSecond line.\n",
            "\n",
            "\n",
            "C:\\some\n",
            "ame\n",
            "C:\\some\\name\n"
          ]
        }
      ]
    },
    {
      "cell_type": "markdown",
      "source": [
        "**Homework (String)**"
      ],
      "metadata": {
        "id": "Hl5eKN7lsi8V"
      }
    },
    {
      "cell_type": "code",
      "source": [
        "# Homework 1\n",
        "\n",
        "text = input(\"Enter the String : \")\n",
        "count = 0\n",
        "for i in text:\n",
        "  count += 1\n",
        "print(\"The length of \", text, \" is : \", count)"
      ],
      "metadata": {
        "colab": {
          "base_uri": "https://localhost:8080/"
        },
        "id": "xiK759LJsia8",
        "outputId": "a915e6c0-41af-4c43-8e12-d29f93e283ca"
      },
      "execution_count": null,
      "outputs": [
        {
          "output_type": "stream",
          "name": "stdout",
          "text": [
            "Enter the String : Hello I am fine\n",
            "The length of  Hello I am fine  is :  15\n"
          ]
        }
      ]
    },
    {
      "cell_type": "code",
      "source": [
        "# Homework 2\n",
        "\n",
        "text = input(\"Enter the String : \")\n",
        "count = 0\n",
        "for i in text.split(\" \"):\n",
        "  count += 1\n",
        "print(\"The number of words in \\\"\",text, \"\\\" is : \", count)"
      ],
      "metadata": {
        "colab": {
          "base_uri": "https://localhost:8080/"
        },
        "id": "CkN626Dbs-6g",
        "outputId": "0ab7c04b-caac-46dc-cc7a-1f8e2dbff8a0"
      },
      "execution_count": null,
      "outputs": [
        {
          "output_type": "stream",
          "name": "stdout",
          "text": [
            "Enter the String : Hello I am fine\n",
            "The number of words in \" Hello I am fine \" is :  4\n"
          ]
        }
      ]
    },
    {
      "cell_type": "code",
      "source": [
        "# Homework 3\n",
        "\n",
        "text = input(\"Enter the String : \")\n",
        "\n",
        "vowel = \"aeiou\"\n",
        "vowelCount = 0\n",
        "consoCount = 0\n",
        "for i in text.lower():\n",
        "  if i in vowel:\n",
        "    vowelCount += 1\n",
        "  else:\n",
        "    consoCount += 1\n",
        "print(\"The number of vowels in \\\"\",text, \"\\\" is : \", vowelCount,\"\\nThe number of consonents in \\\"\", text, \"\\\" is : \", consoCount)"
      ],
      "metadata": {
        "colab": {
          "base_uri": "https://localhost:8080/",
          "height": 365
        },
        "id": "C-6qkkZAtkAe",
        "outputId": "28e7ef33-d18c-4eab-ae09-4c60dd1d2092"
      },
      "execution_count": null,
      "outputs": [
        {
          "output_type": "error",
          "ename": "KeyboardInterrupt",
          "evalue": "Interrupted by user",
          "traceback": [
            "\u001b[0;31m---------------------------------------------------------------------------\u001b[0m",
            "\u001b[0;31mKeyboardInterrupt\u001b[0m                         Traceback (most recent call last)",
            "\u001b[0;32m<ipython-input-13-e14fa992b77d>\u001b[0m in \u001b[0;36m<cell line: 0>\u001b[0;34m()\u001b[0m\n\u001b[1;32m      1\u001b[0m \u001b[0;31m# Homework 3\u001b[0m\u001b[0;34m\u001b[0m\u001b[0;34m\u001b[0m\u001b[0m\n\u001b[1;32m      2\u001b[0m \u001b[0;34m\u001b[0m\u001b[0m\n\u001b[0;32m----> 3\u001b[0;31m \u001b[0mtext\u001b[0m \u001b[0;34m=\u001b[0m \u001b[0minput\u001b[0m\u001b[0;34m(\u001b[0m\u001b[0;34m\"Enter the String : \"\u001b[0m\u001b[0;34m)\u001b[0m\u001b[0;34m\u001b[0m\u001b[0;34m\u001b[0m\u001b[0m\n\u001b[0m\u001b[1;32m      4\u001b[0m \u001b[0;34m\u001b[0m\u001b[0m\n\u001b[1;32m      5\u001b[0m \u001b[0mvowel\u001b[0m \u001b[0;34m=\u001b[0m \u001b[0;34m\"aeiou\"\u001b[0m\u001b[0;34m\u001b[0m\u001b[0;34m\u001b[0m\u001b[0m\n",
            "\u001b[0;32m/usr/local/lib/python3.11/dist-packages/ipykernel/kernelbase.py\u001b[0m in \u001b[0;36mraw_input\u001b[0;34m(self, prompt)\u001b[0m\n\u001b[1;32m   1175\u001b[0m                 \u001b[0;34m\"raw_input was called, but this frontend does not support input requests.\"\u001b[0m\u001b[0;34m\u001b[0m\u001b[0;34m\u001b[0m\u001b[0m\n\u001b[1;32m   1176\u001b[0m             )\n\u001b[0;32m-> 1177\u001b[0;31m         return self._input_request(\n\u001b[0m\u001b[1;32m   1178\u001b[0m             \u001b[0mstr\u001b[0m\u001b[0;34m(\u001b[0m\u001b[0mprompt\u001b[0m\u001b[0;34m)\u001b[0m\u001b[0;34m,\u001b[0m\u001b[0;34m\u001b[0m\u001b[0;34m\u001b[0m\u001b[0m\n\u001b[1;32m   1179\u001b[0m             \u001b[0mself\u001b[0m\u001b[0;34m.\u001b[0m\u001b[0m_parent_ident\u001b[0m\u001b[0;34m[\u001b[0m\u001b[0;34m\"shell\"\u001b[0m\u001b[0;34m]\u001b[0m\u001b[0;34m,\u001b[0m\u001b[0;34m\u001b[0m\u001b[0;34m\u001b[0m\u001b[0m\n",
            "\u001b[0;32m/usr/local/lib/python3.11/dist-packages/ipykernel/kernelbase.py\u001b[0m in \u001b[0;36m_input_request\u001b[0;34m(self, prompt, ident, parent, password)\u001b[0m\n\u001b[1;32m   1217\u001b[0m             \u001b[0;32mexcept\u001b[0m \u001b[0mKeyboardInterrupt\u001b[0m\u001b[0;34m:\u001b[0m\u001b[0;34m\u001b[0m\u001b[0;34m\u001b[0m\u001b[0m\n\u001b[1;32m   1218\u001b[0m                 \u001b[0;31m# re-raise KeyboardInterrupt, to truncate traceback\u001b[0m\u001b[0;34m\u001b[0m\u001b[0;34m\u001b[0m\u001b[0m\n\u001b[0;32m-> 1219\u001b[0;31m                 \u001b[0;32mraise\u001b[0m \u001b[0mKeyboardInterrupt\u001b[0m\u001b[0;34m(\u001b[0m\u001b[0;34m\"Interrupted by user\"\u001b[0m\u001b[0;34m)\u001b[0m \u001b[0;32mfrom\u001b[0m \u001b[0;32mNone\u001b[0m\u001b[0;34m\u001b[0m\u001b[0;34m\u001b[0m\u001b[0m\n\u001b[0m\u001b[1;32m   1220\u001b[0m             \u001b[0;32mexcept\u001b[0m \u001b[0mException\u001b[0m\u001b[0;34m:\u001b[0m\u001b[0;34m\u001b[0m\u001b[0;34m\u001b[0m\u001b[0m\n\u001b[1;32m   1221\u001b[0m                 \u001b[0mself\u001b[0m\u001b[0;34m.\u001b[0m\u001b[0mlog\u001b[0m\u001b[0;34m.\u001b[0m\u001b[0mwarning\u001b[0m\u001b[0;34m(\u001b[0m\u001b[0;34m\"Invalid Message:\"\u001b[0m\u001b[0;34m,\u001b[0m \u001b[0mexc_info\u001b[0m\u001b[0;34m=\u001b[0m\u001b[0;32mTrue\u001b[0m\u001b[0;34m)\u001b[0m\u001b[0;34m\u001b[0m\u001b[0;34m\u001b[0m\u001b[0m\n",
            "\u001b[0;31mKeyboardInterrupt\u001b[0m: Interrupted by user"
          ]
        }
      ]
    },
    {
      "cell_type": "markdown",
      "source": [
        "**Classroom Exercises**\n",
        "\n",
        "Exercise:\n",
        "1. Write a program that reads a string from the user and prints it in reverse order.\n",
        "2. Write a program that reads a string from the user and counts the number of uppercase and lowercase letters.\n",
        "3. Write a program that reads a string from the user and replaces every whitespace with an underscore (_).\n",
        "4. Write a program that reads two integers from the user and calculates their sum, difference, product, and quotient (display the quotient rounded to two decimal places).\n",
        "Handle division by zero appropriately.\n",
        "5. Write a program that reads an integer from the user and checks if it is divisible by both 3 and 5.\n",
        "6. Write a program that reads an integer from the user and determines whether it is a prime number.\n",
        "7. Write a program that reads a positive integer n from the user and calculates the sum of all odd numbers from 1 to n.\n",
        "8. Write a program that reads an integer from the user and prints its multiplication table from 1 to 10.\n",
        "\n"
      ],
      "metadata": {
        "id": "Xs3XIzPU0Oqq"
      }
    },
    {
      "cell_type": "code",
      "source": [
        "# No.1\n",
        "\n",
        "text = input(\"Enter a string : \")\n",
        "print(text[::-1])"
      ],
      "metadata": {
        "id": "_uNc9SBs0RU9",
        "outputId": "ac00530b-c1eb-49da-831a-e095c8666162",
        "colab": {
          "base_uri": "https://localhost:8080/"
        }
      },
      "execution_count": null,
      "outputs": [
        {
          "output_type": "stream",
          "name": "stdout",
          "text": [
            "Enter a string : Hello hI I am Ku Kue\n",
            "euK uK ma I Ih olleH\n"
          ]
        }
      ]
    },
    {
      "cell_type": "code",
      "source": [
        "# No.2\n",
        "\n",
        "text = input(\"Enter a string : \")\n",
        "upperCount = 0\n",
        "lowerCount = 0\n",
        "\n",
        "for i in text:\n",
        "  if i.isupper(): upperCount += 1\n",
        "  elif i.islower(): lowerCount += 1\n",
        "\n",
        "print(\"The Uppercase contins : \", upperCount, \" characters.\")\n",
        "print(\"The Lowercase contins : \", lowerCount, \" characters.\")"
      ],
      "metadata": {
        "id": "IvngJVWQ1Awd",
        "outputId": "0ab5cc69-676d-4e63-e70a-74aaa06d42ff",
        "colab": {
          "base_uri": "https://localhost:8080/"
        }
      },
      "execution_count": null,
      "outputs": [
        {
          "output_type": "stream",
          "name": "stdout",
          "text": [
            "Enter a string : Hello I am Ku Kue\n",
            "The Uppercase contins :  4  characters.\n",
            "The Lowercase contins :  9  characters.\n"
          ]
        }
      ]
    },
    {
      "cell_type": "code",
      "source": [
        "# No.3\n",
        "\n",
        "text = input(\"Enter a string : \")\n",
        "for i in text:\n",
        "  if i.isspace(): print(\"_\", end=\"\")\n",
        "  else: print(i, end=\"\")"
      ],
      "metadata": {
        "id": "VWDcZ9o51fMU",
        "outputId": "85328b7b-04bf-4640-db64-7e2d5bcf51ca",
        "colab": {
          "base_uri": "https://localhost:8080/"
        }
      },
      "execution_count": null,
      "outputs": [
        {
          "output_type": "stream",
          "name": "stdout",
          "text": [
            "Enter a string : Hello i am kukue\n",
            "Hello_i_am_kukue"
          ]
        }
      ]
    },
    {
      "cell_type": "code",
      "source": [
        "# No.4\n",
        "\n",
        "num1 = input(\"Enter the first number : \")\n",
        "num2 = input(\"Enter the second number : \")\n",
        "\n",
        "print(\"The sum of %d and %d is : %d\" %(int(num1), int(num2), int(num1)+int(num2)))\n",
        "print(\"The difference of %d and %d is : %d\" %(int(num1), int(num2), int(num1)-int(num2)))\n",
        "print(\"The product of %d and %d is : %d\" %(int(num1), int(num2), int(num1)*int(num2)))\n",
        "if num2 == \"0\":\n",
        "  print(\"Divisor cannot be Zero\")\n",
        "else:\n",
        "  print(\"The quotient of %d and %d is : %.2f\" %(int(num1), int(num2), int(num1)/int(num2)))\n"
      ],
      "metadata": {
        "id": "t19eE85Z2FP_",
        "outputId": "fe4eb0e3-f44d-49d3-b1b7-b05c34b17d07",
        "colab": {
          "base_uri": "https://localhost:8080/"
        }
      },
      "execution_count": null,
      "outputs": [
        {
          "output_type": "stream",
          "name": "stdout",
          "text": [
            "Enter the first number : 10\n",
            "Enter the second number : 30\n",
            "The sum of 10 and 30 is : 40\n",
            "The difference of 10 and 30 is : -20\n",
            "The product of 10 and 30 is : 300\n",
            "The quotient of 10 and 30 is : 0.33\n"
          ]
        }
      ]
    },
    {
      "cell_type": "code",
      "source": [
        "# No.5\n",
        "\n",
        "num = int(input(\"Enter a number : \"))\n",
        "if num%3==0 and num%5==0:\n",
        "  print(\"%d is divisible by both 3 and 5\" %num)\n",
        "else:\n",
        "  print(\"%d is not divisible by both 3 and 5\" %num)"
      ],
      "metadata": {
        "id": "3Yn9QeGx3ypm",
        "outputId": "c1e74f53-e86d-4c9b-df21-14e6667198cb",
        "colab": {
          "base_uri": "https://localhost:8080/"
        }
      },
      "execution_count": null,
      "outputs": [
        {
          "output_type": "stream",
          "name": "stdout",
          "text": [
            "Enter a number : 15\n",
            "15 is divisible by both 3 and 5\n"
          ]
        }
      ]
    },
    {
      "cell_type": "code",
      "source": [
        "# No.6\n",
        "\n",
        "num = int(input(\"Enter a number : \"))\n",
        "divisor = 2\n",
        "if num == 2: print(\"%d is a prime number.\" %num)\n",
        "else:\n",
        "  while divisor <= num:\n",
        "    if divisor == num:\n",
        "      print(\"%d is a prime number.\" %num)\n",
        "      break\n",
        "    elif num%divisor==0:\n",
        "      print(\"%d is not a prime number.\" %num)\n",
        "      break\n",
        "    elif num%divisor!=0:\n",
        "      divisor += 1\n",
        "\n"
      ],
      "metadata": {
        "id": "7hARcVff5BM1",
        "outputId": "1c73af05-cd13-40dd-d835-1c8cb38d9a19",
        "colab": {
          "base_uri": "https://localhost:8080/"
        }
      },
      "execution_count": null,
      "outputs": [
        {
          "output_type": "stream",
          "name": "stdout",
          "text": [
            "Enter a number : 17\n",
            "17 is a prime number.\n"
          ]
        }
      ]
    },
    {
      "cell_type": "code",
      "source": [
        "# No.7\n",
        "\n",
        "num = int(input(\"Enter a number : \"))\n",
        "sum = 0\n",
        "\n",
        "for i in range(1, num+1):\n",
        "  if i%2!=0:\n",
        "    sum += i\n",
        "print(\"The sum of the numbers from 1 to %d is %d\" %(num, sum))"
      ],
      "metadata": {
        "id": "mReK0pBD5Elw",
        "outputId": "b5530008-3a90-46e8-dcb2-185d2e990bc5",
        "colab": {
          "base_uri": "https://localhost:8080/"
        }
      },
      "execution_count": null,
      "outputs": [
        {
          "output_type": "stream",
          "name": "stdout",
          "text": [
            "Enter a number : 100\n",
            "The sum of the numbers from 1 to 100 is 2500\n"
          ]
        }
      ]
    },
    {
      "cell_type": "markdown",
      "source": [
        "**No.8 is same to Homework1 of Homework (Loop Statement) **"
      ],
      "metadata": {
        "id": "lWskSGW35yHr"
      }
    },
    {
      "cell_type": "markdown",
      "source": [
        "**Homework (Loop Statement)**"
      ],
      "metadata": {
        "id": "NTTAdTqZtdr6"
      }
    },
    {
      "cell_type": "code",
      "source": [
        "# Homework 1\n",
        "\n",
        "num = int(input(\"Enter the number : \"))\n",
        "\n",
        "for i in range(1, 13):\n",
        "  print(num, \" * \", i, \" = \", num*i)"
      ],
      "metadata": {
        "id": "LiJ6bANJtgPj",
        "outputId": "9d9e51e6-f58d-4330-f061-030ad82015cd",
        "colab": {
          "base_uri": "https://localhost:8080/"
        }
      },
      "execution_count": null,
      "outputs": [
        {
          "output_type": "stream",
          "name": "stdout",
          "text": [
            "Enter the number : 4\n",
            "4  *  1  =  4\n",
            "4  *  2  =  8\n",
            "4  *  3  =  12\n",
            "4  *  4  =  16\n",
            "4  *  5  =  20\n",
            "4  *  6  =  24\n",
            "4  *  7  =  28\n",
            "4  *  8  =  32\n",
            "4  *  9  =  36\n",
            "4  *  10  =  40\n",
            "4  *  11  =  44\n",
            "4  *  12  =  48\n"
          ]
        }
      ]
    },
    {
      "cell_type": "code",
      "source": [
        "# Homework 2\n",
        "\n",
        "for i in range(2, 11):\n",
        "  for j in range(1, 13):\n",
        "    print(i, \" * \", j, \" = \", i*j)\n",
        "  print(\"====================\")"
      ],
      "metadata": {
        "id": "LG7K63pauYsY",
        "outputId": "e8f2a854-6948-40aa-97f5-1deb8d9bce8d",
        "colab": {
          "base_uri": "https://localhost:8080/"
        }
      },
      "execution_count": null,
      "outputs": [
        {
          "output_type": "stream",
          "name": "stdout",
          "text": [
            "2  *  1  =  2\n",
            "2  *  2  =  4\n",
            "2  *  3  =  6\n",
            "2  *  4  =  8\n",
            "2  *  5  =  10\n",
            "2  *  6  =  12\n",
            "2  *  7  =  14\n",
            "2  *  8  =  16\n",
            "2  *  9  =  18\n",
            "2  *  10  =  20\n",
            "2  *  11  =  22\n",
            "2  *  12  =  24\n",
            "====================\n",
            "3  *  1  =  3\n",
            "3  *  2  =  6\n",
            "3  *  3  =  9\n",
            "3  *  4  =  12\n",
            "3  *  5  =  15\n",
            "3  *  6  =  18\n",
            "3  *  7  =  21\n",
            "3  *  8  =  24\n",
            "3  *  9  =  27\n",
            "3  *  10  =  30\n",
            "3  *  11  =  33\n",
            "3  *  12  =  36\n",
            "====================\n",
            "4  *  1  =  4\n",
            "4  *  2  =  8\n",
            "4  *  3  =  12\n",
            "4  *  4  =  16\n",
            "4  *  5  =  20\n",
            "4  *  6  =  24\n",
            "4  *  7  =  28\n",
            "4  *  8  =  32\n",
            "4  *  9  =  36\n",
            "4  *  10  =  40\n",
            "4  *  11  =  44\n",
            "4  *  12  =  48\n",
            "====================\n",
            "5  *  1  =  5\n",
            "5  *  2  =  10\n",
            "5  *  3  =  15\n",
            "5  *  4  =  20\n",
            "5  *  5  =  25\n",
            "5  *  6  =  30\n",
            "5  *  7  =  35\n",
            "5  *  8  =  40\n",
            "5  *  9  =  45\n",
            "5  *  10  =  50\n",
            "5  *  11  =  55\n",
            "5  *  12  =  60\n",
            "====================\n",
            "6  *  1  =  6\n",
            "6  *  2  =  12\n",
            "6  *  3  =  18\n",
            "6  *  4  =  24\n",
            "6  *  5  =  30\n",
            "6  *  6  =  36\n",
            "6  *  7  =  42\n",
            "6  *  8  =  48\n",
            "6  *  9  =  54\n",
            "6  *  10  =  60\n",
            "6  *  11  =  66\n",
            "6  *  12  =  72\n",
            "====================\n",
            "7  *  1  =  7\n",
            "7  *  2  =  14\n",
            "7  *  3  =  21\n",
            "7  *  4  =  28\n",
            "7  *  5  =  35\n",
            "7  *  6  =  42\n",
            "7  *  7  =  49\n",
            "7  *  8  =  56\n",
            "7  *  9  =  63\n",
            "7  *  10  =  70\n",
            "7  *  11  =  77\n",
            "7  *  12  =  84\n",
            "====================\n",
            "8  *  1  =  8\n",
            "8  *  2  =  16\n",
            "8  *  3  =  24\n",
            "8  *  4  =  32\n",
            "8  *  5  =  40\n",
            "8  *  6  =  48\n",
            "8  *  7  =  56\n",
            "8  *  8  =  64\n",
            "8  *  9  =  72\n",
            "8  *  10  =  80\n",
            "8  *  11  =  88\n",
            "8  *  12  =  96\n",
            "====================\n",
            "9  *  1  =  9\n",
            "9  *  2  =  18\n",
            "9  *  3  =  27\n",
            "9  *  4  =  36\n",
            "9  *  5  =  45\n",
            "9  *  6  =  54\n",
            "9  *  7  =  63\n",
            "9  *  8  =  72\n",
            "9  *  9  =  81\n",
            "9  *  10  =  90\n",
            "9  *  11  =  99\n",
            "9  *  12  =  108\n",
            "====================\n",
            "10  *  1  =  10\n",
            "10  *  2  =  20\n",
            "10  *  3  =  30\n",
            "10  *  4  =  40\n",
            "10  *  5  =  50\n",
            "10  *  6  =  60\n",
            "10  *  7  =  70\n",
            "10  *  8  =  80\n",
            "10  *  9  =  90\n",
            "10  *  10  =  100\n",
            "10  *  11  =  110\n",
            "10  *  12  =  120\n",
            "====================\n"
          ]
        }
      ]
    },
    {
      "cell_type": "code",
      "source": [
        "# Homework 3\n",
        "\n",
        "num = int(input(\"Enter the number : \"))\n",
        "result = 0.000\n",
        "for i in range(1, num+1):\n",
        "  result += 1/i**3\n",
        "\n",
        "print(\"The result of \", num,\" by using 1+1/2^3+1/3^3+1/4^3+.....+1/n^3 is \", round(result, 3))"
      ],
      "metadata": {
        "id": "tgEcTrrNu2GQ",
        "outputId": "9554bbea-c0d4-4d43-bef7-b4d260c1a729",
        "colab": {
          "base_uri": "https://localhost:8080/"
        }
      },
      "execution_count": null,
      "outputs": [
        {
          "output_type": "stream",
          "name": "stdout",
          "text": [
            "Enter the number : 4\n",
            "The result of  4  by using 1+1/2^3+1/3^3+1/4^3+.....+1/n^3 is  1.178\n"
          ]
        }
      ]
    },
    {
      "cell_type": "code",
      "source": [
        "# Homework 4\n",
        "\n",
        "N = int(input(\"Enter the number N : \"))\n",
        "M = int(input(\"Enter the number M : \"))\n",
        "\n",
        "NN = 1\n",
        "MM = 0\n",
        "for x in str(N):\n",
        "  NN *= int(x)\n",
        "\n",
        "for y in range(1, M+1):\n",
        "  if M%y==0:\n",
        "    MM += y\n",
        "\n",
        "if NN == MM: print(\"YES\")\n",
        "else: print(\"NO\")"
      ],
      "metadata": {
        "id": "PjADAlhZwrPN",
        "outputId": "4a19ebb7-ae23-4419-ae2d-5a5d1eb14c4d",
        "colab": {
          "base_uri": "https://localhost:8080/"
        }
      },
      "execution_count": null,
      "outputs": [
        {
          "output_type": "stream",
          "name": "stdout",
          "text": [
            "Enter the number N : 34\n",
            "Enter the number M : 6\n",
            "YES\n"
          ]
        }
      ]
    },
    {
      "cell_type": "code",
      "source": [
        "# Homework 5\n",
        "\n",
        "N = int(input(\"Enter the number N :\"))\n",
        "M = int(input(\"Enter the number M :\"))\n",
        "K = int(input(\"Enter the number K :\"))\n",
        "\n",
        "NN = 0\n",
        "MM = 0\n",
        "for x in str(N):\n",
        "  NN += int(x)\n",
        "  MM = int(str(M)[:1])\n",
        "\n",
        "if NN + MM == K: print(\"YES\")\n",
        "else: print(\"NO\")\n"
      ],
      "metadata": {
        "id": "Q6qQ2DdB2ewW",
        "outputId": "ad932d4a-c672-48be-eed8-df2c4518d0a1",
        "colab": {
          "base_uri": "https://localhost:8080/"
        }
      },
      "execution_count": null,
      "outputs": [
        {
          "output_type": "stream",
          "name": "stdout",
          "text": [
            "Enter the number N :43\n",
            "Enter the number M :44\n",
            "Enter the number K :11\n",
            "YES\n"
          ]
        }
      ]
    },
    {
      "cell_type": "code",
      "source": [
        "M = 1242\n",
        "print(int(str(M)[:1]))"
      ],
      "metadata": {
        "colab": {
          "base_uri": "https://localhost:8080/"
        },
        "id": "JzAQXCTd7A_M",
        "outputId": "629a5570-9f3b-4357-81a5-94ccae2a79e4"
      },
      "execution_count": null,
      "outputs": [
        {
          "output_type": "stream",
          "name": "stdout",
          "text": [
            "1\n"
          ]
        }
      ]
    },
    {
      "cell_type": "code",
      "source": [
        "a = [1,2,3,4,\"Hello\",False] #error\n",
        "print(min(a))\n",
        "print(len(a))\n",
        "print(max(a))\n",
        "print(sum(a))"
      ],
      "metadata": {
        "collapsed": true,
        "id": "Yc87BfsccTZB",
        "outputId": "8a21ddec-1e8e-4898-82ff-ff48ae022b25",
        "colab": {
          "base_uri": "https://localhost:8080/",
          "height": 216
        }
      },
      "execution_count": null,
      "outputs": [
        {
          "output_type": "error",
          "ename": "TypeError",
          "evalue": "'<' not supported between instances of 'str' and 'int'",
          "traceback": [
            "\u001b[0;31m---------------------------------------------------------------------------\u001b[0m",
            "\u001b[0;31mTypeError\u001b[0m                                 Traceback (most recent call last)",
            "\u001b[0;32m<ipython-input-2-ab90f20dfb97>\u001b[0m in \u001b[0;36m<cell line: 0>\u001b[0;34m()\u001b[0m\n\u001b[1;32m      1\u001b[0m \u001b[0ma\u001b[0m \u001b[0;34m=\u001b[0m \u001b[0;34m[\u001b[0m\u001b[0;36m1\u001b[0m\u001b[0;34m,\u001b[0m\u001b[0;36m2\u001b[0m\u001b[0;34m,\u001b[0m\u001b[0;36m3\u001b[0m\u001b[0;34m,\u001b[0m\u001b[0;36m4\u001b[0m\u001b[0;34m,\u001b[0m\u001b[0;34m\"Hello\"\u001b[0m\u001b[0;34m,\u001b[0m\u001b[0;32mFalse\u001b[0m\u001b[0;34m]\u001b[0m \u001b[0;31m#error\u001b[0m\u001b[0;34m\u001b[0m\u001b[0;34m\u001b[0m\u001b[0m\n\u001b[0;32m----> 2\u001b[0;31m \u001b[0mprint\u001b[0m\u001b[0;34m(\u001b[0m\u001b[0mmin\u001b[0m\u001b[0;34m(\u001b[0m\u001b[0ma\u001b[0m\u001b[0;34m)\u001b[0m\u001b[0;34m)\u001b[0m\u001b[0;34m\u001b[0m\u001b[0;34m\u001b[0m\u001b[0m\n\u001b[0m\u001b[1;32m      3\u001b[0m \u001b[0mprint\u001b[0m\u001b[0;34m(\u001b[0m\u001b[0mlen\u001b[0m\u001b[0;34m(\u001b[0m\u001b[0ma\u001b[0m\u001b[0;34m)\u001b[0m\u001b[0;34m)\u001b[0m\u001b[0;34m\u001b[0m\u001b[0;34m\u001b[0m\u001b[0m\n\u001b[1;32m      4\u001b[0m \u001b[0mprint\u001b[0m\u001b[0;34m(\u001b[0m\u001b[0mmax\u001b[0m\u001b[0;34m(\u001b[0m\u001b[0ma\u001b[0m\u001b[0;34m)\u001b[0m\u001b[0;34m)\u001b[0m\u001b[0;34m\u001b[0m\u001b[0;34m\u001b[0m\u001b[0m\n\u001b[1;32m      5\u001b[0m \u001b[0mprint\u001b[0m\u001b[0;34m(\u001b[0m\u001b[0msum\u001b[0m\u001b[0;34m(\u001b[0m\u001b[0ma\u001b[0m\u001b[0;34m)\u001b[0m\u001b[0;34m)\u001b[0m\u001b[0;34m\u001b[0m\u001b[0;34m\u001b[0m\u001b[0m\n",
            "\u001b[0;31mTypeError\u001b[0m: '<' not supported between instances of 'str' and 'int'"
          ]
        }
      ]
    },
    {
      "cell_type": "code",
      "source": [
        "#Index of: []\n",
        "\n",
        "a = [2,3,5,7,11,13]\n",
        "print(\"a = \", a)\n",
        "print(\"a[0] = \", a[0])\n",
        "print(\"a[2] = \", a[2])\n",
        "#Negative Index\n",
        "print(\"a[-1] = \", a[-1])\n",
        "print(\"a[-3] = \", a[-3])\n",
        "#a range in the list\n",
        "print(\"a[1:3] = \", a[1:3])\n",
        "print(\"a[2:] = \", a[2:])\n",
        "print(\"a[:3] = \", a[:3])\n",
        "print(\"a[1:6:2] = \", a[1:6:2])"
      ],
      "metadata": {
        "id": "XwvgA92zc4Qs",
        "outputId": "c84957ec-4a8f-4414-9b11-13013467e2ec",
        "colab": {
          "base_uri": "https://localhost:8080/"
        }
      },
      "execution_count": null,
      "outputs": [
        {
          "output_type": "stream",
          "name": "stdout",
          "text": [
            "a =  [2, 3, 5, 7, 11, 13]\n",
            "a[0] =  2\n",
            "a[2] =  5\n",
            "a[-1] =  13\n",
            "a[-3] =  7\n",
            "a[1:3] =  [3, 5]\n",
            "a[2:] =  [5, 7, 11, 13]\n",
            "a[:3] =  [2, 3, 5]\n",
            "a[1:6:2] =  [3, 7, 13]\n"
          ]
        }
      ]
    },
    {
      "cell_type": "code",
      "source": [
        "a = [2,3]\n",
        "b = a + [13, 17]\n",
        "print(a)\n",
        "print(b)\n",
        "\n",
        "a = [2,3]\n",
        "b = a[:2] + [5]\n",
        "print(a)\n",
        "print(b)"
      ],
      "metadata": {
        "id": "o5hoctVli6D4",
        "outputId": "eaed1c11-fcb2-4940-bbf9-011b0db32897",
        "colab": {
          "base_uri": "https://localhost:8080/"
        }
      },
      "execution_count": null,
      "outputs": [
        {
          "output_type": "stream",
          "name": "stdout",
          "text": [
            "[2, 3]\n",
            "[2, 3, 13, 17]\n",
            "[2, 3]\n",
            "[2, 3, 5]\n"
          ]
        }
      ]
    },
    {
      "cell_type": "code",
      "source": [
        "print(\"Destructive:\")\n",
        "a = [2,3]\n",
        "b = a\n",
        "a += [4]\n",
        "print(a)\n",
        "print(b)\n",
        "print(\"Non-Destructive:\")\n",
        "a = [2,3]\n",
        "b = a\n",
        "a = a + [4]\n",
        "print(a)\n",
        "print(b)\n"
      ],
      "metadata": {
        "id": "TB06GLmLjXgp",
        "outputId": "12ce6220-52b4-4171-d067-166bba57fa00",
        "colab": {
          "base_uri": "https://localhost:8080/"
        }
      },
      "execution_count": null,
      "outputs": [
        {
          "output_type": "stream",
          "name": "stdout",
          "text": [
            "Destructive:\n",
            "[2, 3, 4]\n",
            "[2, 3, 4]\n",
            "Non-Destructive:\n",
            "[2, 3, 4]\n",
            "[2, 3]\n"
          ]
        }
      ]
    },
    {
      "cell_type": "code",
      "source": [
        "a = [2,3,4,5,6,7,8]\n",
        "print(\"a = \",a)\n",
        "\n",
        "#a.pop\n",
        "item = a.pop(3) #3 is index\n",
        "print(\"After item = a.pop(3): \", a)\n",
        "print(\"After item = a.pop(3): \", item)\n",
        "\n",
        "#del\n",
        "a = [2,3,4,5,6,7,8]\n",
        "del a[2:4]\n",
        "print(\"After del a[2:4]: \", a)\n",
        "\n",
        "#clear()\n",
        "a = [2,3,4,5,6,7,8]\n",
        "a.clear()\n",
        "print(\"After a.clear(): \", a)\n",
        "\n",
        "#remove()\n",
        "a = [2,3,4,5,6,7,8]\n",
        "a.remove(3) #3 is not index, value\n",
        "print(\"After a.remove(3): \", a)\n"
      ],
      "metadata": {
        "id": "6VlcnR8qln12",
        "outputId": "d41b4ff7-04ba-4fc6-8a37-4b723bde97b0",
        "colab": {
          "base_uri": "https://localhost:8080/"
        }
      },
      "execution_count": null,
      "outputs": [
        {
          "output_type": "stream",
          "name": "stdout",
          "text": [
            "a =  [2, 3, 4, 5, 6, 7, 8]\n",
            "After item = a.pop(3):  [2, 3, 4, 6, 7, 8]\n",
            "After item = a.pop(3):  5\n",
            "After del a[2:4]:  [2, 3, 6, 7, 8]\n",
            "After a.clear():  []\n",
            "After a.remove(3):  [2, 4, 5, 6, 7, 8]\n"
          ]
        }
      ]
    },
    {
      "cell_type": "code",
      "source": [
        "a = [2,3,4,7]\n",
        "print(\"a = \", a)\n",
        "a[0] = a[1]\n",
        "a[1] = a[0]\n",
        "print(\"Afer failed swap: \")\n",
        "print(\"a = \", a)\n",
        "\n",
        "a = [2,3,4,7]\n",
        "temp = a[0]\n",
        "a[0] = a[1]\n",
        "a[1] = temp\n",
        "print(\"Afer swap: \")\n",
        "print(\"a = \", a)"
      ],
      "metadata": {
        "id": "AR9c7Xhcnj5u",
        "outputId": "70c04ebe-e81d-4e68-97f8-99c71c3f92ec",
        "colab": {
          "base_uri": "https://localhost:8080/"
        }
      },
      "execution_count": null,
      "outputs": [
        {
          "output_type": "stream",
          "name": "stdout",
          "text": [
            "a =  [2, 3, 4, 7]\n",
            "Afer failed swap: \n",
            "a =  [3, 3, 4, 7]\n",
            "Afer swap: \n",
            "a =  [3, 2, 4, 7]\n"
          ]
        }
      ]
    },
    {
      "cell_type": "code",
      "source": [
        "a = [2,3,4,5]\n",
        "b = [2,3,4,8]\n",
        "c = [2,3,5,7,8]\n",
        "\n",
        "print(a<b)\n",
        "print(a<c)"
      ],
      "metadata": {
        "id": "RZnnwPxNpe0I",
        "outputId": "a11bed82-464e-454f-9fcb-0e8f991d6eaa",
        "colab": {
          "base_uri": "https://localhost:8080/"
        }
      },
      "execution_count": null,
      "outputs": [
        {
          "output_type": "stream",
          "name": "stdout",
          "text": [
            "True\n",
            "True\n"
          ]
        }
      ]
    },
    {
      "cell_type": "code",
      "source": [
        "x = [2,3,4, \"hello\"]\n",
        "y = [2,3,4]\n",
        "print(x>y)"
      ],
      "metadata": {
        "id": "fExJjd8Wpuvw",
        "outputId": "f4b27746-05d6-4934-dd42-dc1b3c79043f",
        "colab": {
          "base_uri": "https://localhost:8080/"
        }
      },
      "execution_count": null,
      "outputs": [
        {
          "output_type": "stream",
          "name": "stdout",
          "text": [
            "True\n"
          ]
        }
      ]
    },
    {
      "cell_type": "code",
      "source": [
        "#Sort\n",
        "\n",
        "a = [7,5,2,5,1,6,7,4,3,7]\n",
        "b = list(a) #copy of a\n",
        "print(\"At first, a = \", a)\n",
        "a.sort()\n",
        "print(\"After a.sort(), a = \", a)\n",
        "print(\"After a.sort(), b = \", b)\n",
        "b.sort(reverse=True)\n",
        "print(\"After b.sort(reverse=True), b = \", b)"
      ],
      "metadata": {
        "id": "KuvsQiLKrpPq",
        "outputId": "b894adcb-1de3-48c3-8a1a-7c18bee2b5d7",
        "colab": {
          "base_uri": "https://localhost:8080/"
        }
      },
      "execution_count": null,
      "outputs": [
        {
          "output_type": "stream",
          "name": "stdout",
          "text": [
            "At first, a =  [7, 5, 2, 5, 1, 6, 7, 4, 3, 7]\n",
            "After a.sort(), a =  [1, 2, 3, 4, 5, 5, 6, 7, 7, 7]\n",
            "After a.sort(), b =  [7, 5, 2, 5, 1, 6, 7, 4, 3, 7]\n",
            "After b.sort(reverse=True), b =  [7, 7, 7, 6, 5, 5, 4, 3, 2, 1]\n"
          ]
        }
      ]
    },
    {
      "cell_type": "markdown",
      "source": [
        "**Exercises**"
      ],
      "metadata": {
        "id": "tnFx68FXtmR8"
      }
    },
    {
      "cell_type": "code",
      "source": [
        "#1\n",
        "fruits = [\"apple\", \"orange\", \"grape\", \"lemon\", \"dragon fruit\"]\n",
        "print(fruits[1])\n",
        "\n",
        "#2\n",
        "fruits[2] = \"mango\"\n",
        "print(fruits)\n",
        "\n",
        "#3\n",
        "fruits.append(\"pineapple\")\n",
        "fruits[1] = \"watermelon\"\n",
        "print(fruits)\n",
        "\n",
        "#4\n",
        "fruits.pop(len(fruits)-1)\n",
        "fruits.remove('apple')\n",
        "print(fruits)\n",
        "\n",
        "#5\n",
        "fruits.sort()\n",
        "print(fruits)\n",
        "fruits.sort(reverse=True)\n",
        "print(fruits)"
      ],
      "metadata": {
        "id": "XlHR3HNwtiuW",
        "outputId": "56a23464-8f70-46f6-b58c-98933fbe1dea",
        "colab": {
          "base_uri": "https://localhost:8080/"
        }
      },
      "execution_count": null,
      "outputs": [
        {
          "output_type": "stream",
          "name": "stdout",
          "text": [
            "orange\n",
            "['apple', 'orange', 'mango', 'lemon', 'dragon fruit']\n",
            "['apple', 'watermelon', 'mango', 'lemon', 'dragon fruit', 'pineapple']\n",
            "['watermelon', 'mango', 'lemon', 'dragon fruit']\n",
            "['dragon fruit', 'lemon', 'mango', 'watermelon']\n",
            "['watermelon', 'mango', 'lemon', 'dragon fruit']\n"
          ]
        }
      ]
    },
    {
      "cell_type": "code",
      "source": [
        "#6\n",
        "nums = [2,3,4,1,4,5,6,7,4]\n",
        "print(sum(nums))\n",
        "\n",
        "#7\n",
        "print(max(nums))\n",
        "print(min(nums))\n",
        "\n",
        "#8\n",
        "new_list = []\n",
        "for i in nums:\n",
        "  if i%2==0:\n",
        "    new_list.append(i)\n",
        "print(new_list)\n",
        "\n",
        "#9\n",
        "def remove_duplicate(nums):\n",
        "  new_list = []\n",
        "  for i in nums:\n",
        "    if i not in new_list:\n",
        "      new_list.append(i)\n",
        "  return new_list\n",
        "\n",
        "print(remove_duplicate(nums))\n",
        "\n",
        "#10\n",
        "next_list = [10,4,5,20,64,2,45]\n",
        "print(remove_duplicate(nums+next_list))\n",
        "\n",
        "#11\n",
        "new_list = [1,2,3,4,5]\n",
        "def shift_right(lst, k):\n",
        "    k = k % len(lst)  # Handle cases where k > len(lst)\n",
        "    return lst[-k:] + lst[:-k]\n",
        "print(shift_right(new_list, 2))\n",
        "\n",
        "#12\n",
        "\n",
        "largest = nums[0]\n",
        "sec_largest = nums[0]\n",
        "nums.remove(max(nums))\n",
        "for i in nums:\n",
        "  if largest < i:\n",
        "    largest = i\n",
        "    if largest > sec_largest:\n",
        "      sec_largest = i\n",
        "print(\"Second largest num: \",sec_largest)\n",
        "print(\"Largest num: \", largest)\n"
      ],
      "metadata": {
        "id": "XAsTclh9vaZO",
        "outputId": "214e5d12-0c0b-4f20-a029-db1a775d725e",
        "colab": {
          "base_uri": "https://localhost:8080/"
        }
      },
      "execution_count": null,
      "outputs": [
        {
          "output_type": "stream",
          "name": "stdout",
          "text": [
            "36\n",
            "7\n",
            "1\n",
            "[2, 4, 4, 6, 4]\n",
            "[2, 3, 4, 1, 5, 6, 7]\n",
            "[2, 3, 4, 1, 5, 6, 7, 10, 20, 64, 45]\n",
            "[4, 5, 1, 2, 3]\n",
            "Second largest num:  6\n",
            "Largest num:  6\n"
          ]
        }
      ]
    },
    {
      "cell_type": "code",
      "source": [
        "#13\n",
        "import random\n",
        "rand_list = []\n",
        "for i in range(10):\n",
        "  rand_list.append(random.randint(1,100))\n",
        "print(rand_list)\n",
        "print(max(rand_list))\n",
        "print(min(rand_list))\n",
        "print(sum(rand_list))\n",
        "\n",
        "#14\n",
        "word_list = [\"Hello\", \"Fine\", \"Well\", \"Good\", \"Luck\"]\n",
        "copy_list = word_list.copy()\n",
        "print(word_list)\n",
        "word_list.sort()\n",
        "print(word_list)\n",
        "word_list.sort(reverse=True)\n",
        "print(word_list)\n",
        "\n",
        "#15\n",
        "print(copy_list[:3])\n",
        "\n",
        "#16\n",
        "print(copy_list[-2:])\n",
        "\n",
        "#17\n",
        "print(word_list[1])\n",
        "print(copy_list[1])\n",
        "\n",
        "#18\n",
        "num_list = [1,2,3,4,5]\n",
        "num_list = [\"even\" if i%2==0 else \"odd\" for i in num_list]\n",
        "print(num_list)\n",
        "\n",
        "#19\n",
        "def remove_all_occurrences(lst, value):\n",
        "    return [x for x in lst if x != value]\n",
        "\n",
        "# Example usage\n",
        "numbers = [1, 2, 3, 4, 3, 5, 3]\n",
        "result = remove_all_occurrences(numbers, 3)\n",
        "print(result)  # Output: [1, 2, 4, 5]\n",
        "\n",
        "#20\n",
        "fruit_list = [\"apple\", \"banana\", \"cherry\", \"apple\", \"date\"]\n",
        "print(fruit_list.index(\"apple\"))\n",
        "\n",
        "#21\n",
        "def unique_list(lst):\n",
        "    unique = []\n",
        "    for item in lst:\n",
        "        if item not in unique:\n",
        "            unique.append(item)\n",
        "    return unique\n",
        "\n",
        "print(numbers)\n",
        "print(unique_list(numbers))\n",
        "\n",
        "#22\n",
        "print(numbers[::-1])\n",
        "\n",
        "#23\n",
        "next_list = [200,100,200,400,500,300]\n",
        "print(next_list)\n",
        "temp = next_list[0]\n",
        "next_list[0] = next_list[len(next_list)-1]\n",
        "next_list[len(next_list)-1] = temp\n",
        "print(next_list)"
      ],
      "metadata": {
        "id": "jwSadJAf1Jhg",
        "outputId": "6bee1eae-29c6-47ee-aa50-a47c79751913",
        "colab": {
          "base_uri": "https://localhost:8080/"
        }
      },
      "execution_count": null,
      "outputs": [
        {
          "output_type": "stream",
          "name": "stdout",
          "text": [
            "[1, 20, 36, 62, 14, 74, 33, 100, 88, 51]\n",
            "100\n",
            "1\n",
            "479\n",
            "['Hello', 'Fine', 'Well', 'Good', 'Luck']\n",
            "['Fine', 'Good', 'Hello', 'Luck', 'Well']\n",
            "['Well', 'Luck', 'Hello', 'Good', 'Fine']\n",
            "['Hello', 'Fine', 'Well']\n",
            "['Good', 'Luck']\n",
            "Luck\n",
            "Fine\n",
            "['odd', 'even', 'odd', 'even', 'odd']\n",
            "[1, 2, 4, 5]\n",
            "0\n",
            "[1, 2, 3, 4, 3, 5, 3]\n",
            "[1, 2, 3, 4, 5]\n",
            "[3, 5, 3, 4, 3, 2, 1]\n",
            "[200, 100, 200, 400, 500, 300]\n",
            "[300, 100, 200, 400, 500, 200]\n"
          ]
        }
      ]
    },
    {
      "cell_type": "code",
      "source": [
        "#24\n",
        "list1 = [2,3,4,2,1,5]\n",
        "list2 = [4,6,2,7,2,0]\n",
        "isMatch = False\n",
        "for i in list1:\n",
        "  if i in list2:\n",
        "    isMatch = True\n",
        "print(isMatch)\n",
        "\n",
        "#25\n",
        "input_list = []\n",
        "while \"q\" not in input_list:\n",
        "  input_value = input(\"Enter the list: \")\n",
        "  input_list.append(input_value)\n",
        "\n",
        "input_list.remove(\"q\")\n",
        "\n",
        "print(input_list)\n",
        "for i in input_list:\n",
        "  if int(i) % 2 != 0:\n",
        "    input_list.remove(i)\n",
        "print(input_list)"
      ],
      "metadata": {
        "collapsed": true,
        "id": "4weuIMCg7k90",
        "outputId": "aa9e331c-7fc6-4c3d-84a3-af8188b8ef83",
        "colab": {
          "base_uri": "https://localhost:8080/",
          "height": 365
        }
      },
      "execution_count": null,
      "outputs": [
        {
          "output_type": "error",
          "ename": "KeyboardInterrupt",
          "evalue": "Interrupted by user",
          "traceback": [
            "\u001b[0;31m---------------------------------------------------------------------------\u001b[0m",
            "\u001b[0;31mKeyboardInterrupt\u001b[0m                         Traceback (most recent call last)",
            "\u001b[0;32m<ipython-input-135-5651f246cd39>\u001b[0m in \u001b[0;36m<cell line: 0>\u001b[0;34m()\u001b[0m\n\u001b[1;32m     11\u001b[0m \u001b[0minput_list\u001b[0m \u001b[0;34m=\u001b[0m \u001b[0;34m[\u001b[0m\u001b[0;34m]\u001b[0m\u001b[0;34m\u001b[0m\u001b[0;34m\u001b[0m\u001b[0m\n\u001b[1;32m     12\u001b[0m \u001b[0;32mwhile\u001b[0m \u001b[0;34m\"q\"\u001b[0m \u001b[0;32mnot\u001b[0m \u001b[0;32min\u001b[0m \u001b[0minput_list\u001b[0m\u001b[0;34m:\u001b[0m\u001b[0;34m\u001b[0m\u001b[0;34m\u001b[0m\u001b[0m\n\u001b[0;32m---> 13\u001b[0;31m   \u001b[0minput_value\u001b[0m \u001b[0;34m=\u001b[0m \u001b[0minput\u001b[0m\u001b[0;34m(\u001b[0m\u001b[0;34m\"Enter the list: \"\u001b[0m\u001b[0;34m)\u001b[0m\u001b[0;34m\u001b[0m\u001b[0;34m\u001b[0m\u001b[0m\n\u001b[0m\u001b[1;32m     14\u001b[0m   \u001b[0minput_list\u001b[0m\u001b[0;34m.\u001b[0m\u001b[0mappend\u001b[0m\u001b[0;34m(\u001b[0m\u001b[0minput_value\u001b[0m\u001b[0;34m)\u001b[0m\u001b[0;34m\u001b[0m\u001b[0;34m\u001b[0m\u001b[0m\n\u001b[1;32m     15\u001b[0m \u001b[0;34m\u001b[0m\u001b[0m\n",
            "\u001b[0;32m/usr/local/lib/python3.11/dist-packages/ipykernel/kernelbase.py\u001b[0m in \u001b[0;36mraw_input\u001b[0;34m(self, prompt)\u001b[0m\n\u001b[1;32m   1175\u001b[0m                 \u001b[0;34m\"raw_input was called, but this frontend does not support input requests.\"\u001b[0m\u001b[0;34m\u001b[0m\u001b[0;34m\u001b[0m\u001b[0m\n\u001b[1;32m   1176\u001b[0m             )\n\u001b[0;32m-> 1177\u001b[0;31m         return self._input_request(\n\u001b[0m\u001b[1;32m   1178\u001b[0m             \u001b[0mstr\u001b[0m\u001b[0;34m(\u001b[0m\u001b[0mprompt\u001b[0m\u001b[0;34m)\u001b[0m\u001b[0;34m,\u001b[0m\u001b[0;34m\u001b[0m\u001b[0;34m\u001b[0m\u001b[0m\n\u001b[1;32m   1179\u001b[0m             \u001b[0mself\u001b[0m\u001b[0;34m.\u001b[0m\u001b[0m_parent_ident\u001b[0m\u001b[0;34m[\u001b[0m\u001b[0;34m\"shell\"\u001b[0m\u001b[0;34m]\u001b[0m\u001b[0;34m,\u001b[0m\u001b[0;34m\u001b[0m\u001b[0;34m\u001b[0m\u001b[0m\n",
            "\u001b[0;32m/usr/local/lib/python3.11/dist-packages/ipykernel/kernelbase.py\u001b[0m in \u001b[0;36m_input_request\u001b[0;34m(self, prompt, ident, parent, password)\u001b[0m\n\u001b[1;32m   1217\u001b[0m             \u001b[0;32mexcept\u001b[0m \u001b[0mKeyboardInterrupt\u001b[0m\u001b[0;34m:\u001b[0m\u001b[0;34m\u001b[0m\u001b[0;34m\u001b[0m\u001b[0m\n\u001b[1;32m   1218\u001b[0m                 \u001b[0;31m# re-raise KeyboardInterrupt, to truncate traceback\u001b[0m\u001b[0;34m\u001b[0m\u001b[0;34m\u001b[0m\u001b[0m\n\u001b[0;32m-> 1219\u001b[0;31m                 \u001b[0;32mraise\u001b[0m \u001b[0mKeyboardInterrupt\u001b[0m\u001b[0;34m(\u001b[0m\u001b[0;34m\"Interrupted by user\"\u001b[0m\u001b[0;34m)\u001b[0m \u001b[0;32mfrom\u001b[0m \u001b[0;32mNone\u001b[0m\u001b[0;34m\u001b[0m\u001b[0;34m\u001b[0m\u001b[0m\n\u001b[0m\u001b[1;32m   1220\u001b[0m             \u001b[0;32mexcept\u001b[0m \u001b[0mException\u001b[0m\u001b[0;34m:\u001b[0m\u001b[0;34m\u001b[0m\u001b[0;34m\u001b[0m\u001b[0m\n\u001b[1;32m   1221\u001b[0m                 \u001b[0mself\u001b[0m\u001b[0;34m.\u001b[0m\u001b[0mlog\u001b[0m\u001b[0;34m.\u001b[0m\u001b[0mwarning\u001b[0m\u001b[0;34m(\u001b[0m\u001b[0;34m\"Invalid Message:\"\u001b[0m\u001b[0;34m,\u001b[0m \u001b[0mexc_info\u001b[0m\u001b[0;34m=\u001b[0m\u001b[0;32mTrue\u001b[0m\u001b[0;34m)\u001b[0m\u001b[0;34m\u001b[0m\u001b[0;34m\u001b[0m\u001b[0m\n",
            "\u001b[0;31mKeyboardInterrupt\u001b[0m: Interrupted by user"
          ]
        }
      ]
    },
    {
      "cell_type": "code",
      "source": [
        "#26\n",
        "input_list = []\n",
        "while \"q\" not in input_list:\n",
        "  input_value = input(\"Enter the list: \")\n",
        "  input_list.append(input_value)\n",
        "\n",
        "input_list.remove(\"q\")\n",
        "for i in input_list:\n",
        "  print(\"The Square of the list : \", int(i)**2)"
      ],
      "metadata": {
        "id": "VQ6ep4e1Abm-",
        "outputId": "ce2539d9-e81b-41a4-dd09-e88696c2ef65",
        "colab": {
          "base_uri": "https://localhost:8080/"
        }
      },
      "execution_count": null,
      "outputs": [
        {
          "output_type": "stream",
          "name": "stdout",
          "text": [
            "Enter the list: 10\n",
            "Enter the list: 20\n",
            "Enter the list: 50\n",
            "Enter the list: q\n",
            "The Square of the list :  100\n",
            "The Square of the list :  400\n",
            "The Square of the list :  2500\n"
          ]
        }
      ]
    },
    {
      "cell_type": "code",
      "source": [
        "#27\n",
        "nums_list = [10,20,30,40,50,60,70,80,90]\n",
        "temp = nums_list[0]\n",
        "nums_list[0] = nums_list[len(nums_list)-1]\n",
        "nums_list[len(nums_list)-1] = temp\n",
        "print(nums_list)\n",
        "\n",
        "#28\n",
        "nums_list = [10,10,30,40,50,60,70,80,90]\n",
        "print(nums_list)\n",
        "count = [0,0,0,0,0,0,0,0,0]\n",
        "for i in range(len(nums_list)):\n",
        "  for j in range(len(nums_list)):\n",
        "    if nums_list[i] == nums_list[j]:\n",
        "      count[i] += 1\n",
        "for i in range(len(nums_list)):\n",
        "  print(\"The total count of \", nums_list[i], \" is \", count[i], \" times.\")\n",
        "\n",
        "#29\n",
        "def is_palindrome(lst):\n",
        "    return lst == lst[::-1]  # Compare list with its reverse\n",
        "\n",
        "# Example usage\n",
        "print(is_palindrome([1, 2, 3, 2, 1]))  # Output: True\n",
        "print(is_palindrome([1, 2, 3, 4, 5]))  # Output: False\n",
        "\n",
        "#30\n",
        "import random\n",
        "\n",
        "def custom_shuffle(lst):\n",
        "    return random.sample(lst, len(lst))  # Returns a shuffled copy of the list\n",
        "\n",
        "# Example usage\n",
        "numbers = [1, 2, 3, 4, 5]\n",
        "shuffled_numbers = custom_shuffle(numbers)\n",
        "print(shuffled_numbers)\n",
        "\n",
        "#31\n",
        "num_list = [3,5,2,9,8,2,4]\n",
        "def swapping(lst):\n",
        "  lst = lst[::-1]\n",
        "  return lst\n",
        "print(swapping(num_list))\n",
        "\n",
        "#32\n",
        "nums_list = [10,20,30,40,50,60,30,80,90]\n",
        "print(nums_list)\n",
        "count = [0,0,0,0,0,0,0,0,0]\n",
        "for i in range(len(nums_list)):\n",
        "  for j in range(len(nums_list)):\n",
        "    if nums_list[i] == nums_list[j]:\n",
        "      count[i] += 1\n",
        "\n",
        "maxCount = count.index(max(count))\n",
        "print(\"The most frequently counting number of \", nums_list[maxCount], \" is \", count[maxCount], \" times\")\n",
        "\n",
        "#33\n",
        "def find_pair(lst, target):\n",
        "    for i in range(len(lst)):\n",
        "        for j in range(i + 1, len(lst)):  # Check each pair\n",
        "            if lst[i] + lst[j] == target:\n",
        "                return [lst[i], lst[j]]  # Return the pair\n",
        "    return None  # No pair found\n",
        "\n",
        "# Example usage\n",
        "numbers = [2, 7, 11, 15]\n",
        "target = 9\n",
        "print(find_pair(numbers, target))\n",
        "\n",
        "#34\n",
        "def remove_duplicates(lst):\n",
        "    unique_list = []\n",
        "    for item in lst:\n",
        "        if item not in unique_list:\n",
        "            unique_list.append(item)\n",
        "    return unique_list\n",
        "\n",
        "print(remove_duplicates(nums_list))\n",
        "\n"
      ],
      "metadata": {
        "id": "vhig7e88ArfX",
        "outputId": "b8b5f6ca-c063-4966-aac9-65ec6bf720ba",
        "colab": {
          "base_uri": "https://localhost:8080/"
        }
      },
      "execution_count": null,
      "outputs": [
        {
          "output_type": "stream",
          "name": "stdout",
          "text": [
            "[90, 20, 30, 40, 50, 60, 70, 80, 10]\n",
            "[10, 10, 30, 40, 50, 60, 70, 80, 90]\n",
            "The total count of  10  is  2  times.\n",
            "The total count of  10  is  2  times.\n",
            "The total count of  30  is  1  times.\n",
            "The total count of  40  is  1  times.\n",
            "The total count of  50  is  1  times.\n",
            "The total count of  60  is  1  times.\n",
            "The total count of  70  is  1  times.\n",
            "The total count of  80  is  1  times.\n",
            "The total count of  90  is  1  times.\n",
            "True\n",
            "False\n",
            "[5, 3, 4, 1, 2]\n",
            "[4, 2, 8, 9, 2, 5, 3]\n",
            "[10, 20, 30, 40, 50, 60, 30, 80, 90]\n",
            "The most frequently counting number of  30  is  2  times\n",
            "[2, 7]\n",
            "[10, 20, 30, 40, 50, 60, 80, 90]\n"
          ]
        }
      ]
    },
    {
      "cell_type": "markdown",
      "source": [
        "**Tuples Exercises**"
      ],
      "metadata": {
        "id": "ydf0Y8k2WqKa"
      }
    },
    {
      "cell_type": "code",
      "source": [
        "#1\n",
        "givenNums = (3,7,2,9,12,5,8,3,7)\n",
        "print(givenNums[0])\n",
        "print(givenNums[-1])\n",
        "\n",
        "#2\n",
        "number_checked = 9\n",
        "if number_checked in givenNums:\n",
        "  print(number_checked, \" is in the Given Numbers Tuple.\")\n",
        "else:\n",
        "  print(number_checked, \" is not in the Given Numbers Tuple.\")\n",
        "\n",
        "#3\n",
        "tuple1 = (1,2,4,5,6,7,3,2)\n",
        "tuple2 = (3,4,5,6,7,2,7,2)\n",
        "print(tuple(set(tuple1 + tuple2))) #\"set\" is used to merge 2 tuples and it'll remove duplicate elements\n",
        "\n",
        "#4\n",
        "print(tuple(map(str, givenNums))) # Using \"map\" function\n",
        "#[OR]\n",
        "print(tuple(str(i) for i in givenNums))\n",
        "\n",
        "#5\n",
        "print(\"Maximun number in Given Nums Tuple : \", max(givenNums))\n",
        "print(\"Minimum number in Given Nums Tuple : \", min(givenNums))\n",
        "\n",
        "#6\n",
        "num_counted = 3\n",
        "print(givenNums.count(num_counted))\n",
        "\n",
        "#7\n",
        "index1 = 3\n",
        "index2 = 5\n",
        "swapped_tuple = tuple(\n",
        "    givenNums[i] if i not in (index1, index2) else givenNums[index2] if i == index1 else givenNums[index1]\n",
        "    for i in range(len(givenNums))\n",
        ")\n",
        "print(swapped_tuple)\n",
        "\n",
        "#8\n",
        "nested_tuple = ((1,2,3),(4,5,6),(7,8,9))\n",
        "print(nested_tuple)\n",
        "flattened_list = [item for subtuple in nested_tuple for item in subtuple]\n",
        "print(flattened_list)\n",
        "\n",
        "#9\n",
        "given_list = [4,7,2,9,12,5,2,4,1,2,4]\n",
        "new_list = sorted(given_list)\n",
        "print(\"The second largest number is : \", new_list[-2])\n",
        "\n",
        "#10\n",
        "print(list(dict.fromkeys(given_list)))\n",
        "\n",
        "#11\n"
      ],
      "metadata": {
        "id": "D8NCTMUlWLJg",
        "outputId": "d44b1725-7be7-469a-a389-ff975e78d1e7",
        "colab": {
          "base_uri": "https://localhost:8080/"
        }
      },
      "execution_count": 33,
      "outputs": [
        {
          "output_type": "stream",
          "name": "stdout",
          "text": [
            "3\n",
            "7\n",
            "9  is in the Given Numbers Tuple.\n",
            "(1, 2, 3, 4, 5, 6, 7)\n",
            "('3', '7', '2', '9', '12', '5', '8', '3', '7')\n",
            "('3', '7', '2', '9', '12', '5', '8', '3', '7')\n",
            "Maximun number in Given Nums Tuple :  12\n",
            "Minimum number in Given Nums Tuple :  2\n",
            "2\n",
            "(3, 7, 2, 5, 12, 9, 8, 3, 7)\n",
            "((1, 2, 3), (4, 5, 6), (7, 8, 9))\n",
            "[1, 2, 3, 4, 5, 6, 7, 8, 9]\n",
            "The second largest number is :  9\n",
            "[4, 7, 2, 9, 12, 5, 1]\n"
          ]
        }
      ]
    },
    {
      "cell_type": "markdown",
      "source": [
        "**Note**\n",
        "\n",
        "Sequences - List, Tuple, Dictionary, String\n",
        "\n",
        "**List**\n",
        "\n",
        "list = [\"banana\", \"apple\"]\n",
        "\n",
        "**Tuple: immutable**\n",
        "\n",
        "tuple = (\"orange\", \"grape\")\n",
        "\n",
        "*Functions*\n",
        "\n",
        "len(), min(), max(), sum()\n"
      ],
      "metadata": {
        "id": "B4skP4xzlHJm"
      }
    }
  ]
}