{
  "nbformat": 4,
  "nbformat_minor": 0,
  "metadata": {
    "colab": {
      "provenance": [],
      "include_colab_link": true
    },
    "kernelspec": {
      "name": "python3",
      "display_name": "Python 3"
    },
    "language_info": {
      "name": "python"
    }
  },
  "cells": [
    {
      "cell_type": "markdown",
      "metadata": {
        "id": "view-in-github",
        "colab_type": "text"
      },
      "source": [
        "<a href=\"https://colab.research.google.com/github/gitOfKuKue/Programming_SBS/blob/main/Exercises.ipynb\" target=\"_parent\"><img src=\"https://colab.research.google.com/assets/colab-badge.svg\" alt=\"Open In Colab\"/></a>"
      ]
    },
    {
      "cell_type": "code",
      "execution_count": null,
      "metadata": {
        "id": "bN1c8-DwL6y8"
      },
      "outputs": [],
      "source": [
        "from datetime import date"
      ]
    },
    {
      "cell_type": "code",
      "source": [
        "# prompt: a = float(input(\"A = \" ))\n",
        "# b = float(input(\"B = \"))\n",
        "# c = float(input(\"C = \"))\n",
        "# delta = b*b-4*a*c\n",
        "# if delta == 0:\n",
        "#     print(\"dual solutions: x = \", str(-b/2/a))\n",
        "# if delta < 0:\n",
        "#     print(\"no solution\")\n",
        "# if delta > 0:\n",
        "#     print(\"x1 = \" + str((-b+delta**0.5)/2/a))\n",
        "#     print(\"x2 = \" + str((-b-delta**0.5)/2/a))\n",
        "\n",
        "a = float(input(\"A = \"))\n",
        "b = float(input(\"B = \"))\n",
        "c = float(input(\"C = \"))\n",
        "delta = b*b-4*a*c\n",
        "if delta == 0:\n",
        "    print(\"dual solutions: x = \", str(-b/2/a))\n",
        "elif delta < 0:\n",
        "    print(\"no solution\")\n",
        "else:\n",
        "    print(\"x1 = \" + str((-b+delta**0.5)/2/a))\n",
        "    print(\"x2 = \" + str((-b-delta**0.5)/2/a))"
      ],
      "metadata": {
        "colab": {
          "base_uri": "https://localhost:8080/"
        },
        "id": "HRGWhnvpYNB6",
        "outputId": "0e6d3265-cbbc-42ca-cce6-4e35b3876450"
      },
      "execution_count": null,
      "outputs": [
        {
          "output_type": "stream",
          "name": "stdout",
          "text": [
            "A = 10\n",
            "B = 0\n",
            "C = -10\n",
            "x1 = 1.0\n",
            "x2 = -1.0\n"
          ]
        }
      ]
    },
    {
      "cell_type": "code",
      "source": [
        "print(str(100))\n",
        "x = str(50)\n",
        "print(x)\n",
        "print(type(x))"
      ],
      "metadata": {
        "colab": {
          "base_uri": "https://localhost:8080/"
        },
        "id": "4QVMBHTXZAsi",
        "outputId": "a6405ed0-f86d-4936-edb2-4fac758e2c4b"
      },
      "execution_count": null,
      "outputs": [
        {
          "output_type": "stream",
          "name": "stdout",
          "text": [
            "100\n",
            "50\n",
            "<class 'str'>\n"
          ]
        }
      ]
    },
    {
      "cell_type": "code",
      "source": [
        "sum = 1 + 3 + 5 +\\\n",
        "7 + 9 + 11 +\\\n",
        "13 + 15 + 17\n",
        "print(sum)"
      ],
      "metadata": {
        "colab": {
          "base_uri": "https://localhost:8080/"
        },
        "id": "2SPYr3JBZWbh",
        "outputId": "324a26bc-4d40-454b-977c-d352f25d6b06"
      },
      "execution_count": null,
      "outputs": [
        {
          "output_type": "stream",
          "name": "stdout",
          "text": [
            "81\n"
          ]
        }
      ]
    },
    {
      "cell_type": "code",
      "source": [
        "myName = input(\"Enter your name : \") #input name\n",
        "myDOB = int(input(\"Enter your year of birth : \")) #input DOB\n",
        "\n",
        "today = date.today() #current date\n",
        "print(\"Hello \", myName, \", in this year, you are \", (today.year - myDOB) , \" years old.\")"
      ],
      "metadata": {
        "colab": {
          "base_uri": "https://localhost:8080/"
        },
        "id": "nrMT7zNCfNVs",
        "outputId": "e13c1f49-865b-467d-c79d-5e25a865c3c1"
      },
      "execution_count": null,
      "outputs": [
        {
          "output_type": "stream",
          "name": "stdout",
          "text": [
            "Enter your name : Ku Kue\n",
            "Enter your year of birth : 2003\n",
            "Hello  Ku Kue , in this year, you are  22  years old.\n"
          ]
        }
      ]
    },
    {
      "cell_type": "code",
      "source": [
        "myName = input(\"Enter your name : \") #input name\n",
        "year, month, day = map(int, input(\"Enter your date of birth (yyyy-mm-dd) : \").split(\"-\")) #input DOB\n",
        "\n",
        "today = date.today() #current date\n",
        "print(\"Hello \", myName, \", in this year, you are \", (today.year - year) , \" years old.\")"
      ],
      "metadata": {
        "id": "cakGXXWajkxH"
      },
      "execution_count": null,
      "outputs": []
    },
    {
      "cell_type": "code",
      "source": [
        "num = int(input(\"Enter a 4 digit number : \"))\n",
        "reverse = 0\n",
        "while num > 0:\n",
        "  reminder = num % 10\n",
        "  reverse = reverse * 10 + reminder\n",
        "  num //= 10\n",
        "\n",
        "print(reverse)\n",
        "\n"
      ],
      "metadata": {
        "colab": {
          "base_uri": "https://localhost:8080/"
        },
        "id": "7BDZegdNobp9",
        "outputId": "d4bf571f-be4d-40d0-c29f-358aa2334de7"
      },
      "execution_count": 13,
      "outputs": [
        {
          "output_type": "stream",
          "name": "stdout",
          "text": [
            "Enter a 4 digit number : 4251\n",
            "425\n",
            "42\n",
            "4\n",
            "0\n",
            "1524\n"
          ]
        }
      ]
    }
  ]
}