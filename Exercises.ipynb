{
  "nbformat": 4,
  "nbformat_minor": 0,
  "metadata": {
    "colab": {
      "provenance": [],
      "include_colab_link": true
    },
    "kernelspec": {
      "name": "python3",
      "display_name": "Python 3"
    },
    "language_info": {
      "name": "python"
    }
  },
  "cells": [
    {
      "cell_type": "markdown",
      "metadata": {
        "id": "view-in-github",
        "colab_type": "text"
      },
      "source": [
        "<a href=\"https://colab.research.google.com/github/gitOfKuKue/Programming_SBS/blob/main/Exercises.ipynb\" target=\"_parent\"><img src=\"https://colab.research.google.com/assets/colab-badge.svg\" alt=\"Open In Colab\"/></a>"
      ]
    },
    {
      "cell_type": "code",
      "execution_count": null,
      "metadata": {
        "id": "bN1c8-DwL6y8"
      },
      "outputs": [],
      "source": [
        "from datetime import date"
      ]
    },
    {
      "cell_type": "code",
      "source": [
        "# prompt: a = float(input(\"A = \" ))\n",
        "# b = float(input(\"B = \"))\n",
        "# c = float(input(\"C = \"))\n",
        "# delta = b*b-4*a*c\n",
        "# if delta == 0:\n",
        "#     print(\"dual solutions: x = \", str(-b/2/a))\n",
        "# if delta < 0:\n",
        "#     print(\"no solution\")\n",
        "# if delta > 0:\n",
        "#     print(\"x1 = \" + str((-b+delta**0.5)/2/a))\n",
        "#     print(\"x2 = \" + str((-b-delta**0.5)/2/a))\n",
        "\n",
        "a = float(input(\"A = \"))\n",
        "b = float(input(\"B = \"))\n",
        "c = float(input(\"C = \"))\n",
        "delta = b*b-4*a*c\n",
        "if delta == 0:\n",
        "    print(\"dual solutions: x = \", str(-b/2/a))\n",
        "elif delta < 0:\n",
        "    print(\"no solution\")\n",
        "else:\n",
        "    print(\"x1 = \" + str((-b+delta**0.5)/2/a))\n",
        "    print(\"x2 = \" + str((-b-delta**0.5)/2/a))"
      ],
      "metadata": {
        "colab": {
          "base_uri": "https://localhost:8080/"
        },
        "id": "HRGWhnvpYNB6",
        "outputId": "0e6d3265-cbbc-42ca-cce6-4e35b3876450"
      },
      "execution_count": null,
      "outputs": [
        {
          "output_type": "stream",
          "name": "stdout",
          "text": [
            "A = 10\n",
            "B = 0\n",
            "C = -10\n",
            "x1 = 1.0\n",
            "x2 = -1.0\n"
          ]
        }
      ]
    },
    {
      "cell_type": "code",
      "source": [
        "print(str(100))\n",
        "x = str(50)\n",
        "print(x)\n",
        "print(type(x))"
      ],
      "metadata": {
        "colab": {
          "base_uri": "https://localhost:8080/"
        },
        "id": "4QVMBHTXZAsi",
        "outputId": "a6405ed0-f86d-4936-edb2-4fac758e2c4b"
      },
      "execution_count": null,
      "outputs": [
        {
          "output_type": "stream",
          "name": "stdout",
          "text": [
            "100\n",
            "50\n",
            "<class 'str'>\n"
          ]
        }
      ]
    },
    {
      "cell_type": "code",
      "source": [
        "sum = 1 + 3 + 5 +\\\n",
        "7 + 9 + 11 +\\\n",
        "13 + 15 + 17\n",
        "print(sum)"
      ],
      "metadata": {
        "colab": {
          "base_uri": "https://localhost:8080/"
        },
        "id": "2SPYr3JBZWbh",
        "outputId": "324a26bc-4d40-454b-977c-d352f25d6b06"
      },
      "execution_count": null,
      "outputs": [
        {
          "output_type": "stream",
          "name": "stdout",
          "text": [
            "81\n"
          ]
        }
      ]
    },
    {
      "cell_type": "code",
      "source": [
        "myName = input(\"Enter your name : \") #input name\n",
        "myDOB = int(input(\"Enter your year of birth : \")) #input DOB\n",
        "\n",
        "today = date.today() #current date\n",
        "print(\"Hello \", myName, \", in this year, you are \", (today.year - myDOB) , \" years old.\")"
      ],
      "metadata": {
        "colab": {
          "base_uri": "https://localhost:8080/"
        },
        "id": "nrMT7zNCfNVs",
        "outputId": "e13c1f49-865b-467d-c79d-5e25a865c3c1"
      },
      "execution_count": null,
      "outputs": [
        {
          "output_type": "stream",
          "name": "stdout",
          "text": [
            "Enter your name : Ku Kue\n",
            "Enter your year of birth : 2003\n",
            "Hello  Ku Kue , in this year, you are  22  years old.\n"
          ]
        }
      ]
    },
    {
      "cell_type": "code",
      "source": [
        "myName = input(\"Enter your name : \") #input name\n",
        "year, month, day = map(int, input(\"Enter your date of birth (yyyy-mm-dd) : \").split(\"-\")) #input DOB\n",
        "\n",
        "today = date.today() #current date\n",
        "print(\"Hello \", myName, \", in this year, you are \", (today.year - year) , \" years old.\")"
      ],
      "metadata": {
        "id": "cakGXXWajkxH"
      },
      "execution_count": null,
      "outputs": []
    },
    {
      "cell_type": "code",
      "source": [
        "num = int(input(\"Enter a 4 digit number : \"))\n",
        "reverse = 0\n",
        "while num > 0:\n",
        "  reminder = num % 10\n",
        "  reverse = reverse * 10 + reminder\n",
        "  num //= 10\n",
        "\n",
        "print(reverse)\n",
        "\n"
      ],
      "metadata": {
        "colab": {
          "base_uri": "https://localhost:8080/"
        },
        "id": "7BDZegdNobp9",
        "outputId": "d4bf571f-be4d-40d0-c29f-358aa2334de7"
      },
      "execution_count": null,
      "outputs": [
        {
          "output_type": "stream",
          "name": "stdout",
          "text": [
            "Enter a 4 digit number : 4251\n",
            "425\n",
            "42\n",
            "4\n",
            "0\n",
            "1524\n"
          ]
        }
      ]
    },
    {
      "cell_type": "code",
      "source": [
        "##Exercise 2\n",
        "\n",
        "number = int(input(\"Enter a number : \"))\n",
        "if number == 2:\n",
        "  print(\"Monday\")\n",
        "elif number == 3:\n",
        "  print(\"Tuesday\")\n",
        "elif number == 4:\n",
        "  print(\"Wednesday\")\n",
        "elif number == 5:\n",
        "  print(\"Thursday\")\n",
        "elif number == 6:\n",
        "  print(\"Friday\")\n",
        "elif number == 7:\n",
        "  print(\"Sunday\")\n",
        "elif number == 8:\n",
        "  print(\"Saturday\")\n",
        "else:\n",
        "  print(\"Invalid Input!\")"
      ],
      "metadata": {
        "colab": {
          "base_uri": "https://localhost:8080/"
        },
        "id": "TFpuqXI0Hxfi",
        "outputId": "1b58d9ce-a463-4621-f978-05e498e6df9f"
      },
      "execution_count": null,
      "outputs": [
        {
          "output_type": "stream",
          "name": "stdout",
          "text": [
            "Enter a number : 6\n",
            "Friday\n"
          ]
        }
      ]
    },
    {
      "cell_type": "markdown",
      "source": [
        "**Practice**"
      ],
      "metadata": {
        "id": "AsyUGSOKh6YW"
      }
    },
    {
      "cell_type": "code",
      "source": [
        "#Practice\n",
        "number = int(input(\"Enter a number : \"))\n",
        "print(number,\" is even.\") if number%2==0 else print(number, \" is odd.\")"
      ],
      "metadata": {
        "colab": {
          "base_uri": "https://localhost:8080/"
        },
        "id": "cnxN-6rrN9Fm",
        "outputId": "9a55fa02-3df2-436b-bdee-672eed6d9913"
      },
      "execution_count": null,
      "outputs": [
        {
          "output_type": "stream",
          "name": "stdout",
          "text": [
            "Enter a number : 2\n",
            "2  is even.\n"
          ]
        }
      ]
    },
    {
      "cell_type": "code",
      "source": [
        "number = int(input(\"Enter a number : \"))\n",
        "i=1\n",
        "for i in range(number):\n",
        "  if (number/(i+1))*(number/(i+1))==number:\n",
        "    print(number, \" is perfect number\")\n",
        "    break\n",
        "  elif (i+1)==number:\n",
        "    print(number, \" is not perfect number\")\n"
      ],
      "metadata": {
        "colab": {
          "base_uri": "https://localhost:8080/"
        },
        "id": "94OYHWXCOW8p",
        "outputId": "c4a432c6-1fae-4698-dee8-4c5c967faa75"
      },
      "execution_count": null,
      "outputs": [
        {
          "output_type": "stream",
          "name": "stdout",
          "text": [
            "Enter a number : 25\n",
            "25  is perfect number\n"
          ]
        }
      ]
    },
    {
      "cell_type": "code",
      "source": [
        "#Largest Number & Smallest Number\n",
        "num1 = int(input(\"Enter number1 : \"))\n",
        "num2 = int(input(\"Enter number2 : \"))\n",
        "num3 = int(input(\"Enter number3 : \"))\n",
        "largest = num1\n",
        "smallest = num1\n",
        "for i in range(3):\n",
        "  if largest < num2: largest = num2\n",
        "  elif largest < num3: largest = num3\n",
        "\n",
        "  if smallest > num2: smallest = num2\n",
        "  elif smallest > num3: smallest = num3\n",
        "\n",
        "print(\"Smallest number among \", num1, \", \", num2, \", \", num3, \" is \", smallest)\n",
        "print(\"Largest number among \", num1, \", \", num2, \", \", num3, \" is \", largest)"
      ],
      "metadata": {
        "colab": {
          "base_uri": "https://localhost:8080/"
        },
        "id": "o7F4qyM4OhlI",
        "outputId": "2edd4a20-e0ab-4227-c331-d23b98aa40cc"
      },
      "execution_count": null,
      "outputs": [
        {
          "output_type": "stream",
          "name": "stdout",
          "text": [
            "Enter number1 : 10\n",
            "Enter number2 : 30\n",
            "Enter number3 : 50\n",
            "Smallest number among  10 ,  30 ,  50  is  10\n",
            "Largest number among  10 ,  30 ,  50  is  50\n"
          ]
        }
      ]
    },
    {
      "cell_type": "code",
      "source": [
        "#Largest number\n",
        "a = 10\n",
        "b = 50\n",
        "c = 69\n",
        "\n",
        "if a > b:\n",
        "  if a > c:\n",
        "    print(f\"(a) is the largest number.\")\n",
        "  else:\n",
        "    print(f\"(c) is the largest number.\")\n",
        "else:\n",
        "  if b > c:\n",
        "    print(f\"(b) is the largest number.\")\n",
        "  else:\n",
        "    print(f\"(c) is the largest number.\")"
      ],
      "metadata": {
        "colab": {
          "base_uri": "https://localhost:8080/"
        },
        "id": "MwiJsI2DUExN",
        "outputId": "a228c624-ac5c-436c-9d7a-ea8f0f65f0a4"
      },
      "execution_count": null,
      "outputs": [
        {
          "output_type": "stream",
          "name": "stdout",
          "text": [
            "(c) is the largest number.\n"
          ]
        }
      ]
    },
    {
      "cell_type": "code",
      "source": [
        "#Calculator\n",
        "number1 = int(input(\"Enter first number : \"))\n",
        "number2 = int(input(\"Enter second number : \"))\n",
        "operator = input(\"Enter an operator (+, -, *, /, %) : \")\n",
        "if operator == '+':\n",
        "  print(number1 + number2)\n",
        "elif operator == '-':\n",
        "  print(number1 - number2)\n",
        "elif operator == '*':\n",
        "  print(number1 * number2)\n",
        "elif operator == '/':\n",
        "  if number2 == 0: print(\"Divisor cannot be Zero\")\n",
        "  else: print(number1 / number2)\n",
        "elif operator == '%':\n",
        "  print(number1 % number2)"
      ],
      "metadata": {
        "colab": {
          "base_uri": "https://localhost:8080/"
        },
        "id": "UmUaQ3HhVDeZ",
        "outputId": "7f51ccea-82c9-412b-d24c-79a2a4845bc9"
      },
      "execution_count": null,
      "outputs": [
        {
          "output_type": "stream",
          "name": "stdout",
          "text": [
            "Enter first number : 50\n",
            "Enter second number : 2\n",
            "Enter an operator (+, -, *, /, %) : %\n",
            "0\n"
          ]
        }
      ]
    },
    {
      "cell_type": "code",
      "source": [
        "A = int(input(\"Enter the number of A : \"))\n",
        "B = int(input(\"Enter the number of B : \"))\n",
        "\n",
        "print(\"The value of x : \", -B/A)"
      ],
      "metadata": {
        "colab": {
          "base_uri": "https://localhost:8080/"
        },
        "id": "KNa4wXn_WlAC",
        "outputId": "75da9144-5e0e-426c-821f-8054d90febcb"
      },
      "execution_count": null,
      "outputs": [
        {
          "output_type": "stream",
          "name": "stdout",
          "text": [
            "Enter the number of A : 10\n",
            "Enter the number of B : 2\n",
            "The value of x :  -0.2\n"
          ]
        }
      ]
    },
    {
      "cell_type": "markdown",
      "source": [
        "**Homework**"
      ],
      "metadata": {
        "id": "Tgw_BgvgXv1D"
      }
    },
    {
      "cell_type": "code",
      "source": [
        "#Leap Year\n",
        "year = int(input(\"Enter the year : \"))\n",
        "isLeapYear = False\n",
        "if year%4==0:\n",
        "  isLeapYear = True\n",
        "  if year%100==0:\n",
        "    isLeapYear = year%400==0\n",
        "\n",
        "\n",
        "if isLeapYear:\n",
        "  print(year, \" is the leap year.\")\n",
        "else:\n",
        "  print(year, \" is not the leap year.\")\n",
        "\n",
        "print(year%400==0)"
      ],
      "metadata": {
        "colab": {
          "base_uri": "https://localhost:8080/"
        },
        "id": "RZdO-YOxXx-8",
        "outputId": "c498066e-e5a4-4e11-8d36-751124311360"
      },
      "execution_count": null,
      "outputs": [
        {
          "output_type": "stream",
          "name": "stdout",
          "text": [
            "Enter the year : 1900\n",
            "True\n",
            "False\n",
            "False\n",
            "1900  is not the leap year.\n",
            "False\n"
          ]
        }
      ]
    },
    {
      "cell_type": "markdown",
      "source": [
        "**Looping (While, For)**"
      ],
      "metadata": {
        "id": "9H8b81FtiVp2"
      }
    },
    {
      "cell_type": "code",
      "source": [
        "limit = int(input(\"Enter a limit : \"))\n",
        "i=1\n",
        "sum = 0\n",
        "while i <= limit:\n",
        "  sum += i\n",
        "  i=i+1\n",
        "else:\n",
        "  print(\"The sum from 1 to \", limit, \" is \", sum)"
      ],
      "metadata": {
        "id": "-ky93OTxicXR",
        "outputId": "fd133157-4a59-47df-fdb7-f23f337e29a2",
        "colab": {
          "base_uri": "https://localhost:8080/"
        }
      },
      "execution_count": null,
      "outputs": [
        {
          "output_type": "stream",
          "name": "stdout",
          "text": [
            "Enter a limit : 5\n",
            "The sum from 1 to  5  is  15\n"
          ]
        }
      ]
    },
    {
      "cell_type": "code",
      "source": [
        "#For loop\n",
        "for x in \"banana\":\n",
        "  print(x)\n",
        "print(\"==========OR==========\")\n",
        "text = \"banana\"\n",
        "x = 0\n",
        "while x < len(text):\n",
        "  print(text[x])\n",
        "  x += 1"
      ],
      "metadata": {
        "id": "U-t6gbIalPfC",
        "outputId": "f8346d9b-3c26-41fa-a15a-fc5036829b15",
        "colab": {
          "base_uri": "https://localhost:8080/"
        }
      },
      "execution_count": null,
      "outputs": [
        {
          "output_type": "stream",
          "name": "stdout",
          "text": [
            "b\n",
            "a\n",
            "n\n",
            "a\n",
            "n\n",
            "a\n",
            "==========OR==========\n",
            "b\n",
            "a\n",
            "n\n",
            "a\n",
            "n\n",
            "a\n"
          ]
        }
      ]
    },
    {
      "cell_type": "code",
      "source": [
        "fruits = [\"apple\", \"banana\", \"cherry\"]\n",
        "for fruit in fruits:\n",
        "  print(fruit)\n",
        "\n",
        "print(\"==========OR==========\")\n",
        "\n",
        "i = 0\n",
        "while i < len(fruits):\n",
        "  print(fruits[i])\n",
        "  i += 1"
      ],
      "metadata": {
        "id": "uBun02hSn38g",
        "outputId": "3444d552-ef95-46fb-e6e1-475470acb426",
        "colab": {
          "base_uri": "https://localhost:8080/"
        }
      },
      "execution_count": null,
      "outputs": [
        {
          "output_type": "stream",
          "name": "stdout",
          "text": [
            "apple\n",
            "banana\n",
            "cherry\n",
            "==========OR==========\n",
            "apple\n",
            "banana\n",
            "cherry\n"
          ]
        }
      ]
    },
    {
      "cell_type": "code",
      "source": [
        "#Range\n",
        "\n",
        "for d in range(10,20):\n",
        "  print(d)\n",
        "\n",
        "print(\"=============\")\n",
        "\n",
        "for d in range(10,20,-1):\n",
        "  print(d)"
      ],
      "metadata": {
        "id": "RtpvuuZcp-uD"
      },
      "execution_count": null,
      "outputs": []
    },
    {
      "cell_type": "code",
      "source": [
        "#Enumerate Function\n",
        "Months = [\"Jan\", \"Feb\", \"Mar\", \"Apr\", \"May\", \"Jun\", \"Jul\", \"Aug\", \"Sep\", \"Oct\", \"Nov\", \"Dec\"]\n",
        "for i, m in enumerate(Months):\n",
        "  print(i, m)"
      ],
      "metadata": {
        "id": "uXKHTtmYrT4k",
        "outputId": "3c6feec6-b161-406f-a535-c0e33fdc0f1d",
        "colab": {
          "base_uri": "https://localhost:8080/"
        }
      },
      "execution_count": null,
      "outputs": [
        {
          "output_type": "stream",
          "name": "stdout",
          "text": [
            "0 Jan\n",
            "1 Feb\n",
            "2 Mar\n",
            "3 Apr\n",
            "4 May\n",
            "5 Jun\n",
            "6 Jul\n",
            "7 Aug\n",
            "8 Sep\n",
            "9 Oct\n",
            "10 Nov\n",
            "11 Dec\n"
          ]
        }
      ]
    },
    {
      "cell_type": "code",
      "source": [
        "def tich(a, b=5):\n",
        "  return a*b\n",
        "\n",
        "print(tich(0))\n",
        "print(tich(5, 10))"
      ],
      "metadata": {
        "id": "IjdTtnnFrv7r",
        "outputId": "8cd0cae2-9801-4b47-e06f-d896c9ff2732",
        "colab": {
          "base_uri": "https://localhost:8080/"
        }
      },
      "execution_count": null,
      "outputs": [
        {
          "output_type": "stream",
          "name": "stdout",
          "text": [
            "0\n",
            "50\n"
          ]
        }
      ]
    },
    {
      "cell_type": "markdown",
      "source": [
        "**Exercises**"
      ],
      "metadata": {
        "id": "x96tJXOaxToZ"
      }
    },
    {
      "cell_type": "code",
      "source": [
        "num = int(input(\"Enter a number : \"))\n",
        "divisor = 2\n",
        "\n",
        "if num == 2:\n",
        "  print(num, \" is Prime number\")\n",
        "else:\n",
        "  i = 2\n",
        "  while i <= num:\n",
        "    if divisor == num:\n",
        "        print(num, \" is Prime number\")\n",
        "        break\n",
        "    elif num%divisor==0:\n",
        "      print(num, \" is not Prime number\")\n",
        "      break\n",
        "    else:\n",
        "      divisor += 1\n",
        "  i+=1"
      ],
      "metadata": {
        "id": "h0i1-2quxV4W",
        "outputId": "7a1bf099-e2df-439f-afdd-61293811e16d",
        "colab": {
          "base_uri": "https://localhost:8080/"
        }
      },
      "execution_count": null,
      "outputs": [
        {
          "output_type": "stream",
          "name": "stdout",
          "text": [
            "Enter a number : 10\n",
            "10  is not Prime number\n"
          ]
        }
      ]
    },
    {
      "cell_type": "code",
      "source": [
        "startNum = int(input(\"Enter the start number : \"))\n",
        "endNum = int(input(\"Enter the end number : \"))\n",
        "\n",
        "for i in range(startNum, endNum):\n",
        "  if i%2==0:\n",
        "    print(i)"
      ],
      "metadata": {
        "id": "U5z7fcWI0iFj"
      },
      "execution_count": null,
      "outputs": []
    },
    {
      "cell_type": "code",
      "source": [
        "num = int(input(\"Enter a number : \"))\n",
        "\n",
        "sum = 0\n",
        "i = 1\n",
        "while i < num:\n",
        "    if num%i==0:\n",
        "        sum = sum + i\n",
        "    i += 1\n",
        "\n",
        "if num == sum:\n",
        "    print(num,\" is the perfect number.\")\n",
        "else:\n",
        "    print(num,\" is not the perfect number.\")"
      ],
      "metadata": {
        "id": "P7VPbmTk04-n"
      },
      "execution_count": null,
      "outputs": []
    },
    {
      "cell_type": "markdown",
      "source": [
        "**Homework (Conditional Statement)**"
      ],
      "metadata": {
        "id": "aziC56iVAByv"
      }
    },
    {
      "cell_type": "code",
      "source": [
        "# Homework 1\n",
        "\n",
        "month = input(\"Enter the month (1-12) : \")\n",
        "if month == \"4\" and month == 6 and month == \"9\" and month == \"11\":\n",
        "  print(\"The month has 30 days.\")\n",
        "elif month == \"2\":\n",
        "  print(\"The month has 28 days.\")\n",
        "else : print(\"The month has 31 days.\")"
      ],
      "metadata": {
        "id": "9BN04MGqAGxv",
        "outputId": "c20f747c-28fa-433a-8e60-08d432693a35",
        "colab": {
          "base_uri": "https://localhost:8080/"
        }
      },
      "execution_count": null,
      "outputs": [
        {
          "output_type": "stream",
          "name": "stdout",
          "text": [
            "Enter the month (1-12) : 2\n",
            "The month has 28 days.\n"
          ]
        }
      ]
    },
    {
      "cell_type": "code",
      "source": [
        "from pickle import FALSE\n",
        "# Homework 2\n",
        "\n",
        "month = input(\"Enter the month (1-12) : \")\n",
        "year = int(input(\"Enter the year : \"))\n",
        "isLeapYear = FALSE\n",
        "\n",
        "if year % 4 == 0:\n",
        "  isLeapYear = True\n",
        "  if year % 100 == 0:\n",
        "    isLeapYear = (year % 400 == 0)\n",
        "\n",
        "if month == \"4\" and month == \"6\" and month == \"9\" and month == \"11\":\n",
        "  print(\"The month has 30 days.\")\n",
        "elif month == \"2\":\n",
        "  if isLeapYear: print(\"The month has 29 days.\")\n",
        "  else: print(\"The month has 28 days.\")\n",
        "else : print(\"The month has 31 days.\")"
      ],
      "metadata": {
        "id": "bAR-CJ4VA-w6",
        "outputId": "24352551-585a-499d-ac1d-d05e95eca040",
        "colab": {
          "base_uri": "https://localhost:8080/"
        }
      },
      "execution_count": null,
      "outputs": [
        {
          "output_type": "stream",
          "name": "stdout",
          "text": [
            "Enter the month (1-12) : 2\n",
            "Enter the year : 2020\n",
            "The month has 29 days.\n"
          ]
        }
      ]
    },
    {
      "cell_type": "code",
      "source": [
        "numText = input(\"Enter a 4-digit number : \")[:4]\n",
        "\n",
        "num = [0, 0, 0, 0]\n",
        "i = 0\n",
        "for x in numText:\n",
        "  num[i] = int(x)\n",
        "  i += 1\n",
        "\n",
        "num[0] = num[0]*10 + num[3]\n",
        "num[1] = num[1]*10 + num[2]\n",
        "\n",
        "print(\"The sum of : ad + bc = ? \", num[0] + num[1])\n",
        "\n",
        "\n",
        "\n",
        "\n",
        "\n"
      ],
      "metadata": {
        "id": "R6_sXF5QCeNH",
        "outputId": "4948b370-5f22-4d95-995f-4664f08a698c",
        "colab": {
          "base_uri": "https://localhost:8080/"
        }
      },
      "execution_count": null,
      "outputs": [
        {
          "output_type": "stream",
          "name": "stdout",
          "text": [
            "Enter a 4-digit number : 1234\n",
            "1\n",
            "2\n",
            "3\n",
            "4\n",
            "The sum of : ad + bc = ?  37\n"
          ]
        }
      ]
    },
    {
      "cell_type": "code",
      "source": [
        "print(\"The Time is 24H System!!\")\n",
        "hour = int(input(\"Enter the hour : \"))\n",
        "minute = int(input(\"Enter the minute : \"))\n",
        "second = int(input(\"Enter the second : \"))\n",
        "\n",
        "if hour < 24:\n",
        "  if second >= 60:\n",
        "    minute += second//60\n",
        "    second %= 60\n",
        "    if minute >= 60:\n",
        "      hour += minute//60\n",
        "      minute %= 60\n",
        "      if hour >= 24:\n",
        "        hour %= 24\n",
        "  print(hour, \" : \", minute, \" : \", second+1)\n",
        "else: print(\"Time is unvalid\")"
      ],
      "metadata": {
        "id": "O8UjCeMaLypD",
        "outputId": "f002803b-1615-49d2-f7ac-f0abec2e5af5",
        "colab": {
          "base_uri": "https://localhost:8080/"
        }
      },
      "execution_count": null,
      "outputs": [
        {
          "output_type": "stream",
          "name": "stdout",
          "text": [
            "The Time is 24H System!!\n",
            "Enter the hour : 23\n",
            "Enter the minute : 59\n",
            "Enter the second : 80\n",
            "0  :  0  :  21\n"
          ]
        }
      ]
    },
    {
      "cell_type": "code",
      "source": [
        "hour = int(input(\"Enter the hour\"))"
      ],
      "metadata": {
        "id": "D8Jygom7M1TE"
      },
      "execution_count": null,
      "outputs": []
    },
    {
      "cell_type": "markdown",
      "source": [
        "**Exercises of PowerPoint 7**"
      ],
      "metadata": {
        "id": "gcd0kwsPbMdG"
      }
    },
    {
      "cell_type": "code",
      "source": [
        "a = 'hello world'\n",
        "print(a)\n",
        "print(\"tin hoc\")\n",
        "print('doesn\\'t') # use \\' to write single quotes...\n",
        "print(\"\\\"Yes,\\\" he said.\") \t\t# use \\\" to write double quotes...\n",
        "print(\"\\n\")\n",
        "s = 'First line.\\nSecond line.' # use  \\n to write newline\n",
        "print(s)\n",
        "ss = 'First line.\\\\nSecond line.' # use \\\\n to remove newline characters\n",
        "print(ss)\n",
        "print(\"\\n\")\n",
        "print('C:\\some\\name') # use \\n to write newline\n",
        "print(r'C:\\some\\name') # use r remove special characters"
      ],
      "metadata": {
        "id": "hfSNeqiQbRmz",
        "outputId": "9a80d86c-a4e6-40d6-80b8-b13eef72bc58",
        "colab": {
          "base_uri": "https://localhost:8080/"
        }
      },
      "execution_count": 2,
      "outputs": [
        {
          "output_type": "stream",
          "name": "stdout",
          "text": [
            "hello world\n",
            "tin hoc\n",
            "doesn't\n",
            "\"Yes,\" he said.\n",
            "\n",
            "\n",
            "First line.\n",
            "Second line.\n",
            "First line.\\nSecond line.\n",
            "\n",
            "\n",
            "C:\\some\n",
            "ame\n",
            "C:\\some\\name\n"
          ]
        }
      ]
    },
    {
      "cell_type": "markdown",
      "source": [
        "**Homework (String)**"
      ],
      "metadata": {
        "id": "Hl5eKN7lsi8V"
      }
    },
    {
      "cell_type": "code",
      "source": [
        "# Homework 1\n",
        "\n",
        "text = input(\"Enter the String : \")\n",
        "count = 0\n",
        "for i in text:\n",
        "  count += 1\n",
        "print(\"The length of \", text, \" is : \", count)"
      ],
      "metadata": {
        "id": "xiK759LJsia8",
        "outputId": "a915e6c0-41af-4c43-8e12-d29f93e283ca",
        "colab": {
          "base_uri": "https://localhost:8080/"
        }
      },
      "execution_count": 12,
      "outputs": [
        {
          "output_type": "stream",
          "name": "stdout",
          "text": [
            "Enter the String : Hello I am fine\n",
            "The length of  Hello I am fine  is :  15\n"
          ]
        }
      ]
    },
    {
      "cell_type": "code",
      "source": [
        "# Homework 2\n",
        "\n",
        "text = input(\"Enter the String : \")\n",
        "count = 0\n",
        "for i in text.split(\" \"):\n",
        "  count += 1\n",
        "print(\"The number of words in \\\"\",text, \"\\\" is : \", count)"
      ],
      "metadata": {
        "id": "CkN626Dbs-6g",
        "outputId": "0ab7c04b-caac-46dc-cc7a-1f8e2dbff8a0",
        "colab": {
          "base_uri": "https://localhost:8080/"
        }
      },
      "execution_count": 8,
      "outputs": [
        {
          "output_type": "stream",
          "name": "stdout",
          "text": [
            "Enter the String : Hello I am fine\n",
            "The number of words in \" Hello I am fine \" is :  4\n"
          ]
        }
      ]
    },
    {
      "cell_type": "code",
      "source": [
        "# Homework 3\n",
        "\n",
        "text = input(\"Enter the String : \")\n",
        "\n",
        "vowel = \"aeiou\"\n",
        "vowelCount = 0\n",
        "consoCount = 0\n",
        "for i in text.lower():\n",
        "  if i in vowel:\n",
        "    vowelCount += 1\n",
        "  else:\n",
        "    consoCount += 1\n",
        "print(\"The number of vowels in \\\"\",text, \"\\\" is : \", vowelCount,\"\\nThe number of consonents in \\\"\", text, \"\\\" is : \", consoCount)"
      ],
      "metadata": {
        "id": "C-6qkkZAtkAe"
      },
      "execution_count": null,
      "outputs": []
    },
    {
      "cell_type": "markdown",
      "source": [
        "**Homework (Loop Statement)**"
      ],
      "metadata": {
        "id": "NTTAdTqZtdr6"
      }
    },
    {
      "cell_type": "code",
      "source": [
        "# Homework 1\n",
        "\n",
        "num = int(input(\"Enter the number : \"))\n",
        "\n",
        "for i in range(1, 13):\n",
        "  print(num, \" * \", i, \" = \", num*i)"
      ],
      "metadata": {
        "id": "LiJ6bANJtgPj",
        "outputId": "9d9e51e6-f58d-4330-f061-030ad82015cd",
        "colab": {
          "base_uri": "https://localhost:8080/"
        }
      },
      "execution_count": null,
      "outputs": [
        {
          "output_type": "stream",
          "name": "stdout",
          "text": [
            "Enter the number : 4\n",
            "4  *  1  =  4\n",
            "4  *  2  =  8\n",
            "4  *  3  =  12\n",
            "4  *  4  =  16\n",
            "4  *  5  =  20\n",
            "4  *  6  =  24\n",
            "4  *  7  =  28\n",
            "4  *  8  =  32\n",
            "4  *  9  =  36\n",
            "4  *  10  =  40\n",
            "4  *  11  =  44\n",
            "4  *  12  =  48\n"
          ]
        }
      ]
    },
    {
      "cell_type": "code",
      "source": [
        "# Homework 2\n",
        "\n",
        "for i in range(2, 11):\n",
        "  for j in range(1, 13):\n",
        "    print(i, \" * \", j, \" = \", i*j)\n",
        "  print(\"====================\")"
      ],
      "metadata": {
        "id": "LG7K63pauYsY",
        "outputId": "e8f2a854-6948-40aa-97f5-1deb8d9bce8d",
        "colab": {
          "base_uri": "https://localhost:8080/"
        }
      },
      "execution_count": null,
      "outputs": [
        {
          "output_type": "stream",
          "name": "stdout",
          "text": [
            "2  *  1  =  2\n",
            "2  *  2  =  4\n",
            "2  *  3  =  6\n",
            "2  *  4  =  8\n",
            "2  *  5  =  10\n",
            "2  *  6  =  12\n",
            "2  *  7  =  14\n",
            "2  *  8  =  16\n",
            "2  *  9  =  18\n",
            "2  *  10  =  20\n",
            "2  *  11  =  22\n",
            "2  *  12  =  24\n",
            "====================\n",
            "3  *  1  =  3\n",
            "3  *  2  =  6\n",
            "3  *  3  =  9\n",
            "3  *  4  =  12\n",
            "3  *  5  =  15\n",
            "3  *  6  =  18\n",
            "3  *  7  =  21\n",
            "3  *  8  =  24\n",
            "3  *  9  =  27\n",
            "3  *  10  =  30\n",
            "3  *  11  =  33\n",
            "3  *  12  =  36\n",
            "====================\n",
            "4  *  1  =  4\n",
            "4  *  2  =  8\n",
            "4  *  3  =  12\n",
            "4  *  4  =  16\n",
            "4  *  5  =  20\n",
            "4  *  6  =  24\n",
            "4  *  7  =  28\n",
            "4  *  8  =  32\n",
            "4  *  9  =  36\n",
            "4  *  10  =  40\n",
            "4  *  11  =  44\n",
            "4  *  12  =  48\n",
            "====================\n",
            "5  *  1  =  5\n",
            "5  *  2  =  10\n",
            "5  *  3  =  15\n",
            "5  *  4  =  20\n",
            "5  *  5  =  25\n",
            "5  *  6  =  30\n",
            "5  *  7  =  35\n",
            "5  *  8  =  40\n",
            "5  *  9  =  45\n",
            "5  *  10  =  50\n",
            "5  *  11  =  55\n",
            "5  *  12  =  60\n",
            "====================\n",
            "6  *  1  =  6\n",
            "6  *  2  =  12\n",
            "6  *  3  =  18\n",
            "6  *  4  =  24\n",
            "6  *  5  =  30\n",
            "6  *  6  =  36\n",
            "6  *  7  =  42\n",
            "6  *  8  =  48\n",
            "6  *  9  =  54\n",
            "6  *  10  =  60\n",
            "6  *  11  =  66\n",
            "6  *  12  =  72\n",
            "====================\n",
            "7  *  1  =  7\n",
            "7  *  2  =  14\n",
            "7  *  3  =  21\n",
            "7  *  4  =  28\n",
            "7  *  5  =  35\n",
            "7  *  6  =  42\n",
            "7  *  7  =  49\n",
            "7  *  8  =  56\n",
            "7  *  9  =  63\n",
            "7  *  10  =  70\n",
            "7  *  11  =  77\n",
            "7  *  12  =  84\n",
            "====================\n",
            "8  *  1  =  8\n",
            "8  *  2  =  16\n",
            "8  *  3  =  24\n",
            "8  *  4  =  32\n",
            "8  *  5  =  40\n",
            "8  *  6  =  48\n",
            "8  *  7  =  56\n",
            "8  *  8  =  64\n",
            "8  *  9  =  72\n",
            "8  *  10  =  80\n",
            "8  *  11  =  88\n",
            "8  *  12  =  96\n",
            "====================\n",
            "9  *  1  =  9\n",
            "9  *  2  =  18\n",
            "9  *  3  =  27\n",
            "9  *  4  =  36\n",
            "9  *  5  =  45\n",
            "9  *  6  =  54\n",
            "9  *  7  =  63\n",
            "9  *  8  =  72\n",
            "9  *  9  =  81\n",
            "9  *  10  =  90\n",
            "9  *  11  =  99\n",
            "9  *  12  =  108\n",
            "====================\n",
            "10  *  1  =  10\n",
            "10  *  2  =  20\n",
            "10  *  3  =  30\n",
            "10  *  4  =  40\n",
            "10  *  5  =  50\n",
            "10  *  6  =  60\n",
            "10  *  7  =  70\n",
            "10  *  8  =  80\n",
            "10  *  9  =  90\n",
            "10  *  10  =  100\n",
            "10  *  11  =  110\n",
            "10  *  12  =  120\n",
            "====================\n"
          ]
        }
      ]
    },
    {
      "cell_type": "code",
      "source": [
        "# Homework 3\n",
        "\n",
        "num = int(input(\"Enter the number : \"))\n",
        "result = 0.000\n",
        "for i in range(1, num+1):\n",
        "  result += 1/i**3\n",
        "\n",
        "print(\"The result of \", num,\" by using 1+1/2^3+1/3^3+1/4^3+.....+1/n^3 is \", round(result, 3))"
      ],
      "metadata": {
        "id": "tgEcTrrNu2GQ",
        "outputId": "9554bbea-c0d4-4d43-bef7-b4d260c1a729",
        "colab": {
          "base_uri": "https://localhost:8080/"
        }
      },
      "execution_count": null,
      "outputs": [
        {
          "output_type": "stream",
          "name": "stdout",
          "text": [
            "Enter the number : 4\n",
            "The result of  4  by using 1+1/2^3+1/3^3+1/4^3+.....+1/n^3 is  1.178\n"
          ]
        }
      ]
    },
    {
      "cell_type": "code",
      "source": [
        "# Homework 4\n",
        "\n",
        "N = int(input(\"Enter the number N : \"))\n",
        "M = int(input(\"Enter the number M : \"))\n",
        "\n",
        "NN = 1\n",
        "MM = 0\n",
        "for x in str(N):\n",
        "  NN *= int(x)\n",
        "\n",
        "for y in range(1, M+1):\n",
        "  if M%y==0:\n",
        "    MM += y\n",
        "\n",
        "if NN == MM: print(\"YES\")\n",
        "else: print(\"NO\")"
      ],
      "metadata": {
        "id": "PjADAlhZwrPN",
        "outputId": "4a19ebb7-ae23-4419-ae2d-5a5d1eb14c4d",
        "colab": {
          "base_uri": "https://localhost:8080/"
        }
      },
      "execution_count": null,
      "outputs": [
        {
          "output_type": "stream",
          "name": "stdout",
          "text": [
            "Enter the number N : 34\n",
            "Enter the number M : 6\n",
            "YES\n"
          ]
        }
      ]
    },
    {
      "cell_type": "code",
      "source": [
        "# Homework 5\n",
        "\n",
        "N = int(input(\"Enter the number N :\"))\n",
        "M = int(input(\"Enter the number M :\"))\n",
        "K = int(input(\"Enter the number K :\"))\n",
        "\n",
        "NN = 0\n",
        "MM = 0\n",
        "for x in str(N):\n",
        "  NN += int(x)\n",
        "  MM = int(str(M)[:1])\n",
        "\n",
        "if NN + MM == K: print(\"YES\")\n",
        "else: print(\"NO\")\n"
      ],
      "metadata": {
        "id": "Q6qQ2DdB2ewW",
        "outputId": "ad932d4a-c672-48be-eed8-df2c4518d0a1",
        "colab": {
          "base_uri": "https://localhost:8080/"
        }
      },
      "execution_count": null,
      "outputs": [
        {
          "output_type": "stream",
          "name": "stdout",
          "text": [
            "Enter the number N :43\n",
            "Enter the number M :44\n",
            "Enter the number K :11\n",
            "YES\n"
          ]
        }
      ]
    },
    {
      "cell_type": "code",
      "source": [
        "M = 1242\n",
        "print(int(str(M)[:1]))"
      ],
      "metadata": {
        "colab": {
          "base_uri": "https://localhost:8080/"
        },
        "id": "JzAQXCTd7A_M",
        "outputId": "629a5570-9f3b-4357-81a5-94ccae2a79e4"
      },
      "execution_count": null,
      "outputs": [
        {
          "output_type": "stream",
          "name": "stdout",
          "text": [
            "1\n"
          ]
        }
      ]
    },
    {
      "cell_type": "markdown",
      "source": [
        "**Note**\n",
        "\n",
        "Sequences - List, Tuple, Dictionary, String\n",
        "\n",
        "**List**\n",
        "\n",
        "list = [\"banana\", \"apple\"]\n"
      ],
      "metadata": {
        "id": "B4skP4xzlHJm"
      }
    }
  ]
}