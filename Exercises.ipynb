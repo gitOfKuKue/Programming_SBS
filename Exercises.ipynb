{
  "nbformat": 4,
  "nbformat_minor": 0,
  "metadata": {
    "colab": {
      "provenance": [],
      "include_colab_link": true
    },
    "kernelspec": {
      "name": "python3",
      "display_name": "Python 3"
    },
    "language_info": {
      "name": "python"
    }
  },
  "cells": [
    {
      "cell_type": "markdown",
      "metadata": {
        "id": "view-in-github",
        "colab_type": "text"
      },
      "source": [
        "<a href=\"https://colab.research.google.com/github/gitOfKuKue/Programming_SBS/blob/main/Exercises.ipynb\" target=\"_parent\"><img src=\"https://colab.research.google.com/assets/colab-badge.svg\" alt=\"Open In Colab\"/></a>"
      ]
    },
    {
      "cell_type": "code",
      "execution_count": null,
      "metadata": {
        "id": "bN1c8-DwL6y8"
      },
      "outputs": [],
      "source": [
        "from datetime import date"
      ]
    },
    {
      "cell_type": "code",
      "source": [
        "# prompt: a = float(input(\"A = \" ))\n",
        "# b = float(input(\"B = \"))\n",
        "# c = float(input(\"C = \"))\n",
        "# delta = b*b-4*a*c\n",
        "# if delta == 0:\n",
        "#     print(\"dual solutions: x = \", str(-b/2/a))\n",
        "# if delta < 0:\n",
        "#     print(\"no solution\")\n",
        "# if delta > 0:\n",
        "#     print(\"x1 = \" + str((-b+delta**0.5)/2/a))\n",
        "#     print(\"x2 = \" + str((-b-delta**0.5)/2/a))\n",
        "\n",
        "a = float(input(\"A = \"))\n",
        "b = float(input(\"B = \"))\n",
        "c = float(input(\"C = \"))\n",
        "delta = b*b-4*a*c\n",
        "if delta == 0:\n",
        "    print(\"dual solutions: x = \", str(-b/2/a))\n",
        "elif delta < 0:\n",
        "    print(\"no solution\")\n",
        "else:\n",
        "    print(\"x1 = \" + str((-b+delta**0.5)/2/a))\n",
        "    print(\"x2 = \" + str((-b-delta**0.5)/2/a))"
      ],
      "metadata": {
        "colab": {
          "base_uri": "https://localhost:8080/"
        },
        "id": "HRGWhnvpYNB6",
        "outputId": "0e6d3265-cbbc-42ca-cce6-4e35b3876450"
      },
      "execution_count": null,
      "outputs": [
        {
          "output_type": "stream",
          "name": "stdout",
          "text": [
            "A = 10\n",
            "B = 0\n",
            "C = -10\n",
            "x1 = 1.0\n",
            "x2 = -1.0\n"
          ]
        }
      ]
    },
    {
      "cell_type": "code",
      "source": [
        "print(str(100))\n",
        "x = str(50)\n",
        "print(x)\n",
        "print(type(x))"
      ],
      "metadata": {
        "colab": {
          "base_uri": "https://localhost:8080/"
        },
        "id": "4QVMBHTXZAsi",
        "outputId": "a6405ed0-f86d-4936-edb2-4fac758e2c4b"
      },
      "execution_count": null,
      "outputs": [
        {
          "output_type": "stream",
          "name": "stdout",
          "text": [
            "100\n",
            "50\n",
            "<class 'str'>\n"
          ]
        }
      ]
    },
    {
      "cell_type": "code",
      "source": [
        "sum = 1 + 3 + 5 +\\\n",
        "7 + 9 + 11 +\\\n",
        "13 + 15 + 17\n",
        "print(sum)"
      ],
      "metadata": {
        "colab": {
          "base_uri": "https://localhost:8080/"
        },
        "id": "2SPYr3JBZWbh",
        "outputId": "324a26bc-4d40-454b-977c-d352f25d6b06"
      },
      "execution_count": null,
      "outputs": [
        {
          "output_type": "stream",
          "name": "stdout",
          "text": [
            "81\n"
          ]
        }
      ]
    },
    {
      "cell_type": "code",
      "source": [
        "myName = input(\"Enter your name : \") #input name\n",
        "myDOB = int(input(\"Enter your year of birth : \")) #input DOB\n",
        "\n",
        "today = date.today() #current date\n",
        "print(\"Hello \", myName, \", in this year, you are \", (today.year - myDOB) , \" years old.\")"
      ],
      "metadata": {
        "colab": {
          "base_uri": "https://localhost:8080/"
        },
        "id": "nrMT7zNCfNVs",
        "outputId": "e13c1f49-865b-467d-c79d-5e25a865c3c1"
      },
      "execution_count": null,
      "outputs": [
        {
          "output_type": "stream",
          "name": "stdout",
          "text": [
            "Enter your name : Ku Kue\n",
            "Enter your year of birth : 2003\n",
            "Hello  Ku Kue , in this year, you are  22  years old.\n"
          ]
        }
      ]
    },
    {
      "cell_type": "code",
      "source": [
        "myName = input(\"Enter your name : \") #input name\n",
        "year, month, day = map(int, input(\"Enter your date of birth (yyyy-mm-dd) : \").split(\"-\")) #input DOB\n",
        "\n",
        "today = date.today() #current date\n",
        "print(\"Hello \", myName, \", in this year, you are \", (today.year - year) , \" years old.\")"
      ],
      "metadata": {
        "id": "cakGXXWajkxH"
      },
      "execution_count": null,
      "outputs": []
    },
    {
      "cell_type": "code",
      "source": [
        "num = int(input(\"Enter a 4 digit number : \"))\n",
        "reverse = 0\n",
        "while num > 0:\n",
        "  reminder = num % 10\n",
        "  reverse = reverse * 10 + reminder\n",
        "  num //= 10\n",
        "\n",
        "print(reverse)\n",
        "\n"
      ],
      "metadata": {
        "colab": {
          "base_uri": "https://localhost:8080/"
        },
        "id": "7BDZegdNobp9",
        "outputId": "d4bf571f-be4d-40d0-c29f-358aa2334de7"
      },
      "execution_count": 13,
      "outputs": [
        {
          "output_type": "stream",
          "name": "stdout",
          "text": [
            "Enter a 4 digit number : 4251\n",
            "425\n",
            "42\n",
            "4\n",
            "0\n",
            "1524\n"
          ]
        }
      ]
    },
    {
      "cell_type": "code",
      "source": [
        "##Exercise 2\n",
        "\n",
        "number = int(input(\"Enter a number : \"))\n",
        "if number == 2:\n",
        "  print(\"Monday\")\n",
        "elif number == 3:\n",
        "  print(\"Tuesday\")\n",
        "elif number == 4:\n",
        "  print(\"Wednesday\")\n",
        "elif number == 5:\n",
        "  print(\"Thursday\")\n",
        "elif number == 6:\n",
        "  print(\"Friday\")\n",
        "elif number == 7:\n",
        "  print(\"Sunday\")\n",
        "elif number == 8:\n",
        "  print(\"Saturday\")\n",
        "else:\n",
        "  print(\"Invalid Input!\")"
      ],
      "metadata": {
        "id": "TFpuqXI0Hxfi",
        "outputId": "1b58d9ce-a463-4621-f978-05e498e6df9f",
        "colab": {
          "base_uri": "https://localhost:8080/"
        }
      },
      "execution_count": 21,
      "outputs": [
        {
          "output_type": "stream",
          "name": "stdout",
          "text": [
            "Enter a number : 6\n",
            "Friday\n"
          ]
        }
      ]
    },
    {
      "cell_type": "markdown",
      "source": [
        "**Practice**"
      ],
      "metadata": {
        "id": "AsyUGSOKh6YW"
      }
    },
    {
      "cell_type": "code",
      "source": [
        "#Practice\n",
        "number = int(input(\"Enter a number : \"))\n",
        "print(number,\" is even.\") if number%2==0 else print(number, \" is odd.\")"
      ],
      "metadata": {
        "id": "cnxN-6rrN9Fm",
        "outputId": "9a55fa02-3df2-436b-bdee-672eed6d9913",
        "colab": {
          "base_uri": "https://localhost:8080/"
        }
      },
      "execution_count": 23,
      "outputs": [
        {
          "output_type": "stream",
          "name": "stdout",
          "text": [
            "Enter a number : 2\n",
            "2  is even.\n"
          ]
        }
      ]
    },
    {
      "cell_type": "code",
      "source": [
        "number = int(input(\"Enter a number : \"))\n",
        "i=1\n",
        "for i in range(number):\n",
        "  if (number/(i+1))*(number/(i+1))==number:\n",
        "    print(number, \" is perfect number\")\n",
        "    break\n",
        "  elif (i+1)==number:\n",
        "    print(number, \" is not perfect number\")\n"
      ],
      "metadata": {
        "id": "94OYHWXCOW8p",
        "outputId": "c4a432c6-1fae-4698-dee8-4c5c967faa75",
        "colab": {
          "base_uri": "https://localhost:8080/"
        }
      },
      "execution_count": 47,
      "outputs": [
        {
          "output_type": "stream",
          "name": "stdout",
          "text": [
            "Enter a number : 25\n",
            "25  is perfect number\n"
          ]
        }
      ]
    },
    {
      "cell_type": "code",
      "source": [
        "#Largest Number & Smallest Number\n",
        "num1 = int(input(\"Enter number1 : \"))\n",
        "num2 = int(input(\"Enter number2 : \"))\n",
        "num3 = int(input(\"Enter number3 : \"))\n",
        "largest = num1\n",
        "smallest = num1\n",
        "for i in range(3):\n",
        "  if largest < num2: largest = num2\n",
        "  elif largest < num3: largest = num3\n",
        "\n",
        "  if smallest > num2: smallest = num2\n",
        "  elif smallest > num3: smallest = num3\n",
        "\n",
        "print(\"Smallest number among \", num1, \", \", num2, \", \", num3, \" is \", smallest)\n",
        "print(\"Largest number among \", num1, \", \", num2, \", \", num3, \" is \", largest)"
      ],
      "metadata": {
        "id": "o7F4qyM4OhlI",
        "outputId": "2edd4a20-e0ab-4227-c331-d23b98aa40cc",
        "colab": {
          "base_uri": "https://localhost:8080/"
        }
      },
      "execution_count": 54,
      "outputs": [
        {
          "output_type": "stream",
          "name": "stdout",
          "text": [
            "Enter number1 : 10\n",
            "Enter number2 : 30\n",
            "Enter number3 : 50\n",
            "Smallest number among  10 ,  30 ,  50  is  10\n",
            "Largest number among  10 ,  30 ,  50  is  50\n"
          ]
        }
      ]
    },
    {
      "cell_type": "code",
      "source": [
        "#Largest number\n",
        "a = 10\n",
        "b = 50\n",
        "c = 69\n",
        "\n",
        "if a > b:\n",
        "  if a > c:\n",
        "    print(f\"(a) is the largest number.\")\n",
        "  else:\n",
        "    print(f\"(c) is the largest number.\")\n",
        "else:\n",
        "  if b > c:\n",
        "    print(f\"(b) is the largest number.\")\n",
        "  else:\n",
        "    print(f\"(c) is the largest number.\")"
      ],
      "metadata": {
        "id": "MwiJsI2DUExN",
        "outputId": "a228c624-ac5c-436c-9d7a-ea8f0f65f0a4",
        "colab": {
          "base_uri": "https://localhost:8080/"
        }
      },
      "execution_count": 59,
      "outputs": [
        {
          "output_type": "stream",
          "name": "stdout",
          "text": [
            "(c) is the largest number.\n"
          ]
        }
      ]
    },
    {
      "cell_type": "code",
      "source": [
        "#Calculator\n",
        "number1 = int(input(\"Enter first number : \"))\n",
        "number2 = int(input(\"Enter second number : \"))\n",
        "operator = input(\"Enter an operator (+, -, *, /, %) : \")\n",
        "if operator == '+':\n",
        "  print(number1 + number2)\n",
        "elif operator == '-':\n",
        "  print(number1 - number2)\n",
        "elif operator == '*':\n",
        "  print(number1 * number2)\n",
        "elif operator == '/':\n",
        "  if number2 == 0: print(\"Divisor cannot be Zero\")\n",
        "  else: print(number1 / number2)\n",
        "elif operator == '%':\n",
        "  print(number1 % number2)"
      ],
      "metadata": {
        "id": "UmUaQ3HhVDeZ",
        "outputId": "7f51ccea-82c9-412b-d24c-79a2a4845bc9",
        "colab": {
          "base_uri": "https://localhost:8080/"
        }
      },
      "execution_count": 67,
      "outputs": [
        {
          "output_type": "stream",
          "name": "stdout",
          "text": [
            "Enter first number : 50\n",
            "Enter second number : 2\n",
            "Enter an operator (+, -, *, /, %) : %\n",
            "0\n"
          ]
        }
      ]
    },
    {
      "cell_type": "code",
      "source": [
        "A = int(input(\"Enter the number of A : \"))\n",
        "B = int(input(\"Enter the number of B : \"))\n",
        "\n",
        "print(\"The value of x : \", -B/A)"
      ],
      "metadata": {
        "id": "KNa4wXn_WlAC",
        "outputId": "75da9144-5e0e-426c-821f-8054d90febcb",
        "colab": {
          "base_uri": "https://localhost:8080/"
        }
      },
      "execution_count": 68,
      "outputs": [
        {
          "output_type": "stream",
          "name": "stdout",
          "text": [
            "Enter the number of A : 10\n",
            "Enter the number of B : 2\n",
            "The value of x :  -0.2\n"
          ]
        }
      ]
    },
    {
      "cell_type": "markdown",
      "source": [
        "**Homework**"
      ],
      "metadata": {
        "id": "Tgw_BgvgXv1D"
      }
    },
    {
      "cell_type": "code",
      "source": [
        "#Leap Year\n",
        "year = int(input(\"Enter the year : \"))\n",
        "isLeapYear = False\n",
        "if year%4==0:\n",
        "  isLeapYear = True\n",
        "  if year%100==0:\n",
        "    isLeapYear = year%400==0\n",
        "\n",
        "\n",
        "if isLeapYear:\n",
        "  print(year, \" is the leap year.\")\n",
        "else:\n",
        "  print(year, \" is not the leap year.\")\n",
        "\n",
        "print(year%400==0)"
      ],
      "metadata": {
        "id": "RZdO-YOxXx-8",
        "outputId": "c498066e-e5a4-4e11-8d36-751124311360",
        "colab": {
          "base_uri": "https://localhost:8080/"
        }
      },
      "execution_count": 80,
      "outputs": [
        {
          "output_type": "stream",
          "name": "stdout",
          "text": [
            "Enter the year : 1900\n",
            "True\n",
            "False\n",
            "False\n",
            "1900  is not the leap year.\n",
            "False\n"
          ]
        }
      ]
    }
  ]
}