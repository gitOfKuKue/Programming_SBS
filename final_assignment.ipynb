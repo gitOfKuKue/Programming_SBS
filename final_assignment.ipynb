{
  "nbformat": 4,
  "nbformat_minor": 0,
  "metadata": {
    "colab": {
      "provenance": [],
      "authorship_tag": "ABX9TyPwFU02pIqmRDw2UYZPb+n9",
      "include_colab_link": true
    },
    "kernelspec": {
      "name": "python3",
      "display_name": "Python 3"
    },
    "language_info": {
      "name": "python"
    }
  },
  "cells": [
    {
      "cell_type": "markdown",
      "metadata": {
        "id": "view-in-github",
        "colab_type": "text"
      },
      "source": [
        "<a href=\"https://colab.research.google.com/github/gitOfKuKue/Programming_SBS/blob/main/final_assignment.ipynb\" target=\"_parent\"><img src=\"https://colab.research.google.com/assets/colab-badge.svg\" alt=\"Open In Colab\"/></a>"
      ]
    },
    {
      "cell_type": "markdown",
      "source": [
        "***Final Assigment***\n",
        "\n",
        "Question 1:\n",
        "Write a function that creates a list of integers from 1 to 50 that are divisible by 3, then print\n",
        "this list.\n",
        "\n",
        "Question 2:\n",
        "Write a function that takes a list of integers and returns the smallest and largest numbers in\n",
        "the list.\n",
        "\n",
        "Question 3:\n",
        "Write a function that takes a list of integers. The function returns a dictionary with:\n",
        "- Key \"odd\": a list of even numbers.\n",
        "- Key \"even\": a list of odd numbers.\n",
        "\n",
        "Question 4:\n",
        "Write a function sum_of_cubes(n) that takes a positive integer n and calculates the sum of\n",
        "cubes of all numbers from 1 to n using a while loop.\n",
        "\n",
        "Question 5:\n",
        "Write a function get_max_min(lst) that takes a list of integers lst and returns a dictionary\n",
        "with two keys: \"max\" containing the maximum value and \"min\" containing the minimum value in\n",
        "the list.\n",
        "Example:\n",
        "lst = [3, 1, 4, 1, 5, 9, 2]\n",
        "print(get_max_min(lst)) # Output: {\"max\": 9, \"min\": 1}\n",
        "\n",
        "Question 6:\n",
        "Write a function find_most_frequent_number(lst) that takes a list of integers lst. This\n",
        "function finds and returns the number that appears most frequently in the list. If there are multiple\n",
        "numbers with the same highest frequency, return a list of all those numbers.\n",
        "Example:\n",
        "lst = [1, 2, 2, 3, 3, 3, 4, 4, 4, 4]\n",
        "print(find_most_frequent_number(lst)) # Output: [4]\n",
        "\n",
        "Question 7:\n",
        "Read and display information from the file vnstock_listing_companies.csv.\n",
        "a. Print the list of column names.\n",
        "b. Print the number of rows in the table.\n",
        "\n",
        "Question 8:\n",
        "Display information related to the stock COM from the file vnstock_listing_companies.csv.\n",
        "The required information includes: ticker, shortName, and monthlyRecords.\n",
        "\n",
        "Question 9:\n",
        "price each day is:\n",
        "From the above trading history, add a new column (Info01) to indicate whether the Close\n",
        "- Greater than the Open price (value 1),\n",
        "- Less than the Open price (value -1),\n",
        "- Equal to the Open price (value 0).\n",
        "\n",
        "Question 10:\n",
        "From the file COM.csv, plot the lines for the stock COM using the values [Open, High, Low, Close]."
      ],
      "metadata": {
        "id": "Uw7L5aQzbaQ1"
      }
    },
    {
      "cell_type": "code",
      "execution_count": 19,
      "metadata": {
        "colab": {
          "base_uri": "https://localhost:8080/"
        },
        "id": "svryqn3294_I",
        "outputId": "dbddd5c4-9b40-48ce-d859-68df0e6338fd"
      },
      "outputs": [
        {
          "output_type": "stream",
          "name": "stdout",
          "text": [
            "[3, 6, 9, 12, 15, 18, 21, 24, 27, 30, 33, 36, 39, 42, 45, 48]\n",
            "[1, 10]\n",
            "Smallest integer of  [1, 2, 3, 4, 5, 6, 7, 8, 9, 10]  is  1  and largest integer of  [1, 2, 3, 4, 5, 6, 7, 8, 9, 10]  is  10\n"
          ]
        }
      ],
      "source": [
        "# Answer 1:\n",
        "# Question 1: Write a function that creates a list of integers from 1 to 50 that are divisible by 3, then print this list.\n",
        "def func_1_50_divisible_by_3():\n",
        "  list_1_50_divisible_by_3 = []\n",
        "  for i in range(1, 51):\n",
        "    if i%3==0:\n",
        "      list_1_50_divisible_by_3.append(i)\n",
        "  return list_1_50_divisible_by_3\n",
        "\n",
        "print(func_1_50_divisible_by_3())\n",
        "\n",
        "# Answer 2:\n",
        "# Question 2: Write a function that takes a list of integers and returns the smallest and largest numbers in the list.\n",
        "def smallest_largest(integers_list):\n",
        "  num_list = []\n",
        "  smallest = min(integers_list)\n",
        "  largest = max(integers_list)\n",
        "  num_list.append(smallest)\n",
        "  num_list.append(largest)\n",
        "  return num_list\n",
        "\n",
        "integers_list = [1, 2, 3, 4, 5, 6, 7, 8, 9, 10]\n",
        "print(\"Smallest integer of \", integers_list,\" is \", smallest_largest(integers_list)[0], \" and largest integer of \", integers_list, \" is \", smallest_largest(integers_list)[1])\n",
        "\n",
        "# Answer 3:\n",
        "# Question 3: Write a function that takes a list of integers. The function returns a dictionary with:\n",
        "#   Key \"odd\": a list of even numbers.\n",
        "#   Key \"even\": a list of odd numbers.\n"
      ]
    }
  ]
}